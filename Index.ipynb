{
 "metadata": {
  "name": "",
  "signature": "sha256:def3f91228f92512e81fbf4912d46c860d7772c182a464d95b9de81ae34434e8"
 },
 "nbformat": 3,
 "nbformat_minor": 0,
 "worksheets": [
  {
   "cells": [
    {
     "cell_type": "heading",
     "level": 1,
     "metadata": {},
     "source": [
      "The [scikit-bio](http://scikit-bio.org) cookbook: delectable and nutritious bioinformatics recipes"
     ]
    },
    {
     "cell_type": "markdown",
     "metadata": {},
     "source": [
      "This series of IPython Notebooks contains executable \"recipes\" for bioinformatics workflows using [scikit-bio](http://scikit-bio.org).\n",
      "\n",
      "Disclaimer: *This is not the main scikit-bio documentation.* You can find the latest scikit-bio API documentation [here](http://scikit-bio.org/docs/latest/). This is an experimental project, and while we'll make an effort to keep these notebooks up-to-date, at this point we are not guaranteeing that they will work. If these notebooks seem to be useful, we'll hook up automated testing to ensure that they work. "
     ]
    },
    {
     "cell_type": "code",
     "collapsed": false,
     "input": [
      "Table of Contents\n",
      " * [http://localhost:8888/notebooks/]Finding%20PCR%20primers%20in%20sequencing%20products.ipynb"
     ],
     "language": "python",
     "metadata": {},
     "outputs": []
    }
   ],
   "metadata": {}
  }
 ]
}