{
 "metadata": {
  "name": "",
  "signature": "sha256:c0fb818f3e46296abaa844e2d55ff7ac6831747ff6206054ebf0a601b7c0d0ec"
 },
 "nbformat": 3,
 "nbformat_minor": 0,
 "worksheets": [
  {
   "cells": [
    {
     "cell_type": "heading",
     "level": 1,
     "metadata": {},
     "source": [
      "The [scikit-bio](http://scikit-bio.org) cookbook: delicious and nutritious bioinformatics recipes"
     ]
    },
    {
     "cell_type": "markdown",
     "metadata": {},
     "source": [
      "This series of IPython Notebooks contains executable \"recipes\" for bioinformatics workflows using [scikit-bio](http://scikit-bio.org).\n",
      "\n",
      "Disclaimer: *This is not the main scikit-bio documentation.* You can find the latest scikit-bio API documentation [here](http://scikit-bio.org/docs/latest/). This is an experimental project, and while we'll make an effort to keep these notebooks up-to-date, at this point we are not guaranteeing that they will work. If these notebooks seem to be useful, we'll hook up automated testing to ensure that they work. "
     ]
    },
    {
     "cell_type": "heading",
     "level": 2,
     "metadata": {},
     "source": [
      "Table of Contents"
     ]
    },
    {
     "cell_type": "markdown",
     "metadata": {},
     "source": [
      " * [Finding PCR primers in sequencing products](Finding PCR primers in sequencing products.ipynb)"
     ]
    }
   ],
   "metadata": {}
  }
 ]
}