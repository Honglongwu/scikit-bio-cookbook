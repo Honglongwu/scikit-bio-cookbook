{
 "metadata": {
  "name": "",
  "signature": "sha256:54d9d1755025be1b1db8ba67a7ece24bff15466cb8c37ecca9cc38b9979e184a"
 },
 "nbformat": 3,
 "nbformat_minor": 0,
 "worksheets": [
  {
   "cells": [
    {
     "cell_type": "markdown",
     "metadata": {},
     "source": [
      "scikit-bio 0.2.1 introduced the [I/O registry](http://scikit-bio.org/docs/latest/io.html), which provides unified input and output (I/O). Previously, there were many ways to read and write various file formats into and out of scikit-bio objects. The scikit-bio I/O registry provides a single entry point to all I/O using a simple procedural interface. Additionally, the registry dynamically generates an equivalent object-oriented API for any scikit-bio object that can be serialized or deserialized (i.e., written to or read from a file). Finally, the registry supports automatic file format detection via file sniffers. See the [``skbio.io`` docs](http://scikit-bio.org/docs/latest/io.html) for more details on the I/O registry and the benefits it provides.\n",
      "\n",
      "We will explore some of the features provided by the I/O registry in the following examples."
     ]
    },
    {
     "cell_type": "heading",
     "level": 2,
     "metadata": {},
     "source": [
      "Procedural and object-oriented API"
     ]
    },
    {
     "cell_type": "markdown",
     "metadata": {},
     "source": [
      "scikit-bio provides a simple procedural and object-oriented (OO) API for performing file I/O. Both APIs produce the same results and are provided for convenience to the user. Every scikit-bio object that can be read into has a `read` method, and every object that can be written from has a `write` method. These methods and their documentation are *automatically generated* by the I/O registry at runtime!\n",
      "\n",
      "For example, let's read a [Newick](http://scikit-bio.org/docs/latest/generated/skbio.io.newick.html) file (taken from [Greengenes](http://www.ncbi.nlm.nih.gov/pubmed/22134646) version `13_8`, 61% OTUs) using the procedural API ([skbio.io.read](http://scikit-bio.org/docs/latest/generated/skbio.io.read.html)):"
     ]
    },
    {
     "cell_type": "code",
     "collapsed": false,
     "input": [
      "import skbio.io\n",
      "from skbio import TreeNode\n",
      "tree_1 = skbio.io.read('data/61_otus.tree', format='newick', into=TreeNode)"
     ],
     "language": "python",
     "metadata": {
      "internals": {
       "slide_helper": "subslide_end"
      },
      "slide_helper": "slide_end",
      "slideshow": {
       "slide_type": "-"
      }
     },
     "outputs": [],
     "prompt_number": 1
    },
    {
     "cell_type": "markdown",
     "metadata": {},
     "source": [
      "Let's now read the same file using the equivalent OO API ([TreeNode.read](http://scikit-bio.org/docs/latest/generated/skbio.tree.TreeNode.read.html)):"
     ]
    },
    {
     "cell_type": "code",
     "collapsed": false,
     "input": [
      "tree_2 = TreeNode.read('data/61_otus.tree', format='newick')"
     ],
     "language": "python",
     "metadata": {},
     "outputs": [],
     "prompt_number": 2
    },
    {
     "cell_type": "markdown",
     "metadata": {},
     "source": [
      "We obtain equivalent in-memory `TreeNode` objects:"
     ]
    },
    {
     "cell_type": "code",
     "collapsed": false,
     "input": [
      "tree_1"
     ],
     "language": "python",
     "metadata": {},
     "outputs": [
      {
       "metadata": {},
       "output_type": "pyout",
       "prompt_number": 3,
       "text": [
        "<TreeNode, name: unnamed, internal node count: 20, tips count: 22>"
       ]
      }
     ],
     "prompt_number": 3
    },
    {
     "cell_type": "code",
     "collapsed": false,
     "input": [
      "tree_2"
     ],
     "language": "python",
     "metadata": {},
     "outputs": [
      {
       "metadata": {},
       "output_type": "pyout",
       "prompt_number": 4,
       "text": [
        "<TreeNode, name: unnamed, internal node count: 20, tips count: 22>"
       ]
      }
     ],
     "prompt_number": 4
    },
    {
     "cell_type": "markdown",
     "metadata": {},
     "source": [
      "**Note:** ``TreeNode`` currently does not have ``__eq__``/``equals`` methods, which is why we aren't performing a direct equality comparison here. See [#465](https://github.com/biocore/scikit-bio/issues/465) to track progress on this."
     ]
    },
    {
     "cell_type": "heading",
     "level": 2,
     "metadata": {},
     "source": [
      "Sniffers"
     ]
    },
    {
     "cell_type": "markdown",
     "metadata": {},
     "source": [
      "What if you don't know the format of a file? The I/O registry provides *file sniffers*, which attempt to determine a file's format by inspecting the beginning of a file.\n",
      "\n",
      "For example, suppose we have a file whose format is unknown. To sniff its format:"
     ]
    },
    {
     "cell_type": "code",
     "collapsed": false,
     "input": [
      "from skbio.io import sniff\n",
      "sniff('data/unknown_file_1')"
     ],
     "language": "python",
     "metadata": {
      "internals": {},
      "slideshow": {
       "slide_type": "-"
      }
     },
     "outputs": [
      {
       "metadata": {},
       "output_type": "pyout",
       "prompt_number": 5,
       "text": [
        "('ordination', {})"
       ]
      }
     ],
     "prompt_number": 5
    },
    {
     "cell_type": "markdown",
     "metadata": {},
     "source": [
      "The sniffer returns a tuple containing the format name and parameters (kwargs), respectively. Format parameters may be returned if the sniffer thinks they are necessary to correctly read the file in the sniffed format.\n",
      "\n",
      "In the above example, the sniffer guessed the file format to be [ordination](http://scikit-bio.org/docs/latest/generated/skbio.io.ordination.html?highlight=ordination). It did not guess any format parameters, which is correct because there are none for the format."
     ]
    },
    {
     "cell_type": "markdown",
     "metadata": {},
     "source": [
      "Not every file can be identified by the sniffer. For example, let's try to sniff another unknown file:"
     ]
    },
    {
     "cell_type": "code",
     "collapsed": false,
     "input": [
      "from skbio.io import UnrecognizedFormatError\n",
      "try:\n",
      "    sniff('data/unknown_file_2')\n",
      "except UnrecognizedFormatError as e:\n",
      "    print(e)"
     ],
     "language": "python",
     "metadata": {
      "internals": {},
      "slideshow": {
       "slide_type": "-"
      }
     },
     "outputs": [
      {
       "output_type": "stream",
       "stream": "stdout",
       "text": [
        "Cannot guess the format for data/unknown_file_2.\n"
       ]
      }
     ],
     "prompt_number": 6
    },
    {
     "cell_type": "markdown",
     "metadata": {},
     "source": [
      "The sniffer raised an `UnrecognizedFormatError` because it could not identify the file's format (which was intentionally meaningless). A special case of a file that is especially meaningless is the empty file. Sniffing an empty file returns the following:"
     ]
    },
    {
     "cell_type": "code",
     "collapsed": false,
     "input": [
      "sniff('data/unknown_file_3')"
     ],
     "language": "python",
     "metadata": {
      "internals": {},
      "slideshow": {
       "slide_type": "-"
      }
     },
     "outputs": [
      {
       "metadata": {},
       "output_type": "pyout",
       "prompt_number": 7,
       "text": [
        "('<emptyfile>', {})"
       ]
      }
     ],
     "prompt_number": 7
    },
    {
     "cell_type": "markdown",
     "metadata": {},
     "source": [
      "This information can be especially helpful in error messages, when users may have inadvertently created an empty file.\n",
      "\n",
      "As previously mentioned, sniffers may return format parameters as kwargs. For example, let's try sniffing another unknown file:"
     ]
    },
    {
     "cell_type": "code",
     "collapsed": false,
     "input": [
      "sniff('data/unknown_file_4')"
     ],
     "language": "python",
     "metadata": {
      "internals": {
       "slide_helper": "subslide_end"
      },
      "slide_helper": "slide_end",
      "slideshow": {
       "slide_type": "-"
      }
     },
     "outputs": [
      {
       "metadata": {},
       "output_type": "pyout",
       "prompt_number": 8,
       "text": [
        "('lsmat', {'delimiter': ','})"
       ]
      }
     ],
     "prompt_number": 8
    },
    {
     "cell_type": "markdown",
     "metadata": {},
     "source": [
      "The sniffer identified the file as being in [lsmat](http://scikit-bio.org/docs/latest/generated/skbio.io.lsmat.html) format. It also recommends using a comma as the delimiter when reading the file. This differs from the default delimiter, which is the tab character.\n",
      "\n",
      "Let's try reading this lsmat-formatted file into a `DistanceMatrix` object:"
     ]
    },
    {
     "cell_type": "code",
     "collapsed": false,
     "input": [
      "from skbio import DistanceMatrix\n",
      "dm = DistanceMatrix.read('data/unknown_file_4')\n",
      "print(dm)"
     ],
     "language": "python",
     "metadata": {},
     "outputs": [
      {
       "output_type": "stream",
       "stream": "stdout",
       "text": [
        "3x3 distance matrix\n",
        "IDs:\n",
        "a, b, c\n",
        "Data:\n",
        "[[  0.00000000e+00   1.00000000e-02   4.20000000e+00]\n",
        " [  1.00000000e-02   0.00000000e+00   1.20000000e+01]\n",
        " [  4.20000000e+00   1.20000000e+01   0.00000000e+00]]\n"
       ]
      }
     ],
     "prompt_number": 9
    },
    {
     "cell_type": "markdown",
     "metadata": {},
     "source": [
      "Note that we didn't have to specify `delimiter=','` in the `DistanceMatrix.read` call because the sniffer is invoked automatically and its recommendations are used by the reader (this can be disabled by explicitly providing the format name and passing `verify=False`).\n",
      "\n",
      "We can override the sniffer's recommendations by passing our own delimiter:"
     ]
    },
    {
     "cell_type": "code",
     "collapsed": false,
     "input": [
      "from skbio import DistanceMatrix\n",
      "from skbio.io import LSMatFormatError\n",
      "\n",
      "try:\n",
      "    DistanceMatrix.read('data/unknown_file_4', delimiter='\\t')\n",
      "except LSMatFormatError as e:\n",
      "    print(e)"
     ],
     "language": "python",
     "metadata": {},
     "outputs": [
      {
       "output_type": "stream",
       "stream": "stdout",
       "text": [
        "Header must start with delimiter '\\t'.\n"
       ]
      },
      {
       "output_type": "stream",
       "stream": "stderr",
       "text": [
        "/Users/jairideout/.virtualenvs/scikit-bio-cookbook/lib/python2.7/site-packages/skbio/io/_registry.py:38: ArgumentOverrideWarning: Best guess was: delimiter=,, continuing with user supplied: \t\n",
        "  ), ArgumentOverrideWarning)\n"
       ]
      }
     ],
     "prompt_number": 10
    },
    {
     "cell_type": "markdown",
     "metadata": {},
     "source": [
      "Note that we receive a warning stating that the sniffer's recommendations are being ignored in favor of our input. In this case, the lsmat file cannot be successfully read using a tab as the delimiter."
     ]
    },
    {
     "cell_type": "heading",
     "level": 2,
     "metadata": {},
     "source": [
      "Streaming files to a different format"
     ]
    },
    {
     "cell_type": "markdown",
     "metadata": {},
     "source": [
      "The previous examples showed how to read a file into an object that is represented entirely in memory. In some cases, this is infeasible because you may not have enough memory to store all of the file's contents at once (e.g., reading a 10GB FASTA file on a computer with only 2GB of RAM).\n",
      "\n",
      "To address this issue, scikit-bio's I/O registry provides a *streaming* interface via its procedural [skbio.io.read](http://scikit-bio.org/docs/latest/generated/skbio.io.read.html?highlight=skbio.io.read) and [skbio.io.write](http://scikit-bio.org/docs/latest/generated/skbio.io.write.html?highlight=skbio.io.write) functions. When using a streaming reader, pieces of the parsed file are yielded on demand using a Python [generator](https://wiki.python.org/moin/Generators). For example, streaming a FASTA file would yield a single `BiologicalSequence` (or subclass) at a time instead of loading all sequences at once.\n",
      "\n",
      "To illustrate how this works, let's convert an Illumina 1.3 FASTQ file (old Illumina variant) into an Illumina 1.8 FASTQ file (current Illumina variant). This FASTQ file is a small subset (100 sequences) taken from the [Moving Pictures of the Human Microbiome](http://www.ncbi.nlm.nih.gov/pubmed/21624126) study. For more details on FASTQ variants (i.e., different quality score encoding schemes), see [skbio.io.fastq](http://scikit-bio.org/docs/latest/generated/skbio.io.fastq.html).\n",
      "\n",
      "First let's create a streaming reader to yield each sequence in our input FASTQ file:"
     ]
    },
    {
     "cell_type": "code",
     "collapsed": false,
     "input": [
      "seq_gen = skbio.io.read('data/moving_pictures_subset_100.fastq',\n",
      "                        format='fastq',\n",
      "                        variant='illumina1.3')\n",
      "seq_gen"
     ],
     "language": "python",
     "metadata": {
      "internals": {
       "frag_helper": "fragment_end",
       "frag_number": 11
      },
      "slideshow": {
       "slide_type": "-"
      }
     },
     "outputs": [
      {
       "metadata": {},
       "output_type": "pyout",
       "prompt_number": 11,
       "text": [
        "<generator object wrapped_reader at 0x113e62780>"
       ]
      }
     ],
     "prompt_number": 11
    },
    {
     "cell_type": "markdown",
     "metadata": {},
     "source": [
      "Note that nothing has been loaded into memory from disk at this point because `seq_gen` is a generator. We can pass this generator to `skbio.io.write` to have it write a single sequence at a time in the Illumina 1.8 FASTQ variant:"
     ]
    },
    {
     "cell_type": "code",
     "collapsed": false,
     "input": [
      "skbio.io.write(seq_gen,\n",
      "               into='data/moving_pictures_subset_100_illumina1.8.fastq',\n",
      "               format='fastq', \n",
      "               variant='illumina1.8')"
     ],
     "language": "python",
     "metadata": {
      "internals": {},
      "slideshow": {
       "slide_type": "-"
      }
     },
     "outputs": [],
     "prompt_number": 12
    },
    {
     "cell_type": "markdown",
     "metadata": {},
     "source": [
      "Note that since both streaming readers *and* writers were used, only a single biological sequence was ever loaded into memory at any given point in time.\n",
      "\n",
      "Examining the original and converted FASTQ files shows that the quality scores are encoded differently:"
     ]
    },
    {
     "cell_type": "code",
     "collapsed": false,
     "input": [
      "!head -4 data/moving_pictures_subset_100.fastq"
     ],
     "language": "python",
     "metadata": {},
     "outputs": [
      {
       "output_type": "stream",
       "stream": "stdout",
       "text": [
        "@HWI-EAS440_0386:1:23:17547:1423#0/1\r\n",
        "TACGNAGGATCCGAGCGTTATCCGGATTTATTGGGTTTAAAGGGAGCGTAGATGGATGTTTAAGTCAGTTGTGAAAGTTTGCGGCTCAACCGTAAAATTGCAGTTGATACTGGATATCTTGAGTGCAGTTGAGGCAGGGGGGGATTGGTGTG\r\n",
        "+HWI-EAS440_0386:1:23:17547:1423#0/1\r\n",
        "hhhdHddddddddfehhfhhhghggfhhhfhhgggfhhgfgdfcfhehfdgfhggfggfggffgddfgdffdgdaagaaddcbdccc]a^ad__a]_____ba_`a`__^__\\]^OWZR\\Z\\\\WYTZ_U^BBBBBBBBBBBBBBBBBBBBBB\r\n"
       ]
      }
     ],
     "prompt_number": 13
    },
    {
     "cell_type": "code",
     "collapsed": false,
     "input": [
      "!head -4 data/moving_pictures_subset_100_illumina1.8.fastq"
     ],
     "language": "python",
     "metadata": {},
     "outputs": [
      {
       "output_type": "stream",
       "stream": "stdout",
       "text": [
        "@HWI-EAS440_0386:1:23:17547:1423#0/1\r\n",
        "TACGNAGGATCCGAGCGTTATCCGGATTTATTGGGTTTAAAGGGAGCGTAGATGGATGTTTAAGTCAGTTGTGAAAGTTTGCGGCTCAACCGTAAAATTGCAGTTGATACTGGATATCTTGAGTGCAGTTGAGGCAGGGGGGGATTGGTGTG\r\n",
        "+\r\n",
        "IIIE)EEEEEEEEGFIIGIIIHIHHGIIIGIIHHHGIIHGHEGDGIFIGEHGIHHGHHGHHGGHEEGHEGGEHEBBHBBEEDCEDDD>B?BE@@B>@@@@@CB@ABA@@?@@=>?08;3=;==8:5;@6?######################\r\n"
       ]
      }
     ],
     "prompt_number": 14
    },
    {
     "cell_type": "heading",
     "level": 2,
     "metadata": {},
     "source": [
      "Streaming [QSeq](http://scikit-bio.org/docs/latest/generated/skbio.io.qseq.html) to [FASTQ](http://scikit-bio.org/docs/latest/generated/skbio.io.fastq.html) variants"
     ]
    },
    {
     "cell_type": "markdown",
     "metadata": {},
     "source": [
      "Building on the previous example, let's see a more complex example where we convert a [QSeq](http://scikit-bio.org/docs/latest/generated/skbio.io.qseq.html) file into every [FASTQ](http://scikit-bio.org/docs/latest/generated/skbio.io.fastq.html) variant supported by scikit-bio: Sanger, Illumina 1.3, and Illumina 1.8. The QSeq file contains a subset of the sequences in the [Ultra-high-throughput microbial community analysis on the Illumina HiSeq and MiSeq platforms](http://www.nature.com/ismej/journal/v6/n8/full/ismej20128a.html) study. Its quality scores are encoded using the Illumina 1.3 variant.\n",
      "\n",
      "**Note:** scikit-bio does not currently support the Solexa FASTQ variant. See [#719](https://github.com/biocore/scikit-bio/issues/719) to track progress on this.\n",
      "\n",
      "For each supported variant, we create a streaming reader on the source QSeq file and feed the reader to a streaming writer, supplying the desired variant to convert to:"
     ]
    },
    {
     "cell_type": "code",
     "collapsed": false,
     "input": [
      "for variant in 'sanger', 'illumina1.3', 'illumina1.8':\n",
      "    qseq_gen = skbio.io.read('data/s_1_1_0001_qseq.txt', \n",
      "                             format='qseq',\n",
      "                             filter=True,\n",
      "                             variant='illumina1.3')\n",
      "    skbio.io.write(qseq_gen, \n",
      "                   into='data/s_1_1_0001_%s.fastq' % variant, \n",
      "                   format='fastq',\n",
      "                   variant=variant)"
     ],
     "language": "python",
     "metadata": {},
     "outputs": [],
     "prompt_number": 15
    },
    {
     "cell_type": "markdown",
     "metadata": {},
     "source": [
      "Note that we passed `filter=True` when reading the source QSeq file, which filters out sequences that didn't pass CASAVA's filter. This is the QSeq reader's default behavior, but we provide it for explicitness. Thus, the converted FASTQ files will have fewer sequences than the source QSeq file (pass `filter=False` to retain and convert *all* sequences).\n",
      "\n",
      "Examining the converted FASTQ files shows that the quality scores are encoded differently, but the IDs and sequence data are identical:"
     ]
    },
    {
     "cell_type": "code",
     "collapsed": false,
     "input": [
      "!head -4 data/s_1_1_0001_illumina1.3.fastq"
     ],
     "language": "python",
     "metadata": {},
     "outputs": [
      {
       "output_type": "stream",
       "stream": "stdout",
       "text": [
        "@M10_68:1:1:19607:29475#0/1\r\n",
        "GACATAAGGGTGGTTAGTATACCGGCAAGGACGGGGTTACTAGTGACGTCCTTCCCCGTATGCCGGGCAATAATGTTTATGTTGGTTTCATGGTTTGGTCTAACTTTACCGCTACTAAATGCTGCGGATTGGTTTCGCTGAATCAGATTATT\r\n",
        "+\r\n",
        "Z__c\\JQ`cc[[_[bfff[[`Qbdge_YYOOHO^cF[FUb_VHMHV`T`dBBBBBBBBBBBBBBBBBBBBBBBBBBBBBBBBBBBBBBBBBBBBBBBBBBBBBBBBBBBBBBBBBBBBBBBBBBBBBBBBBBBBBBBBBBBBBBBBBBBBBB\r\n"
       ]
      }
     ],
     "prompt_number": 16
    },
    {
     "cell_type": "code",
     "collapsed": false,
     "input": [
      "!head -4 data/s_1_1_0001_illumina1.8.fastq"
     ],
     "language": "python",
     "metadata": {},
     "outputs": [
      {
       "output_type": "stream",
       "stream": "stdout",
       "text": [
        "@M10_68:1:1:19607:29475#0/1\r\n",
        "GACATAAGGGTGGTTAGTATACCGGCAAGGACGGGGTTACTAGTGACGTCCTTCCCCGTATGCCGGGCAATAATGTTTATGTTGGTTTCATGGTTTGGTCTAACTTTACCGCTACTAAATGCTGCGGATTGGTTTCGCTGAATCAGATTATT\r\n",
        "+\r\n",
        ";@@D=+2ADD<<@<CGGG<<A2CEHF@::00)0?D'<'6C@7).)7A5AE######################################################################################################\r\n"
       ]
      }
     ],
     "prompt_number": 17
    },
    {
     "cell_type": "code",
     "collapsed": false,
     "input": [
      "!head -4 data/s_1_1_0001_sanger.fastq"
     ],
     "language": "python",
     "metadata": {},
     "outputs": [
      {
       "output_type": "stream",
       "stream": "stdout",
       "text": [
        "@M10_68:1:1:19607:29475#0/1\r\n",
        "GACATAAGGGTGGTTAGTATACCGGCAAGGACGGGGTTACTAGTGACGTCCTTCCCCGTATGCCGGGCAATAATGTTTATGTTGGTTTCATGGTTTGGTCTAACTTTACCGCTACTAAATGCTGCGGATTGGTTTCGCTGAATCAGATTATT\r\n",
        "+\r\n",
        ";@@D=+2ADD<<@<CGGG<<A2CEHF@::00)0?D'<'6C@7).)7A5AE######################################################################################################\r\n"
       ]
      }
     ],
     "prompt_number": 18
    },
    {
     "cell_type": "markdown",
     "metadata": {},
     "source": [
      "Note that the encoded quality scores are the same for Illumina 1.8 and Sanger because both encoding schemes use the same Phred offset (but they have different [valid ranges](http://scikit-bio.org/docs/latest/generated/skbio.io.fastq.html#quality-score-variants)).\n",
      "\n",
      "Next, let's read the original QSeq file and each of the converted FASTQ files into `SequenceCollection` objects:"
     ]
    },
    {
     "cell_type": "code",
     "collapsed": false,
     "input": [
      "from skbio import SequenceCollection\n",
      "\n",
      "sc_original = SequenceCollection.read('data/s_1_1_0001_qseq.txt', variant='illumina1.3')\n",
      "sc_illumina13 = SequenceCollection.read('data/s_1_1_0001_illumina1.3.fastq', variant='illumina1.3')\n",
      "sc_illumina18 = SequenceCollection.read('data/s_1_1_0001_illumina1.8.fastq', variant='illumina1.8')\n",
      "sc_sanger = SequenceCollection.read('data/s_1_1_0001_sanger.fastq', variant='sanger')"
     ],
     "language": "python",
     "metadata": {},
     "outputs": [],
     "prompt_number": 19
    },
    {
     "cell_type": "markdown",
     "metadata": {},
     "source": [
      "To verify that the `SequenceCollection`s are equal, we define a custom equality testing function:"
     ]
    },
    {
     "cell_type": "code",
     "collapsed": false,
     "input": [
      "def seq_collections_equal(sc1, sc2):\n",
      "    if len(sc1) != len(sc2):\n",
      "        return False\n",
      "    for s1, s2 in zip(sc1, sc2):\n",
      "        if not s1.equals(s2):\n",
      "            return False\n",
      "    return True\n",
      "\n",
      "def all_equal(*seqs):\n",
      "    for s1 in seqs:\n",
      "        for s2 in seqs:\n",
      "            if not seq_collections_equal(s1, s2):\n",
      "                return False\n",
      "    return True"
     ],
     "language": "python",
     "metadata": {},
     "outputs": [],
     "prompt_number": 20
    },
    {
     "cell_type": "markdown",
     "metadata": {},
     "source": [
      "**Note:** `SequenceCollection` does not have an `equals` method yet. Its `__eq__` method doesn't compare sequence ID, description, or quality scores, which are important to test in this case -- this is why we have to define a custom equality testing function here. See [#656](https://github.com/biocore/scikit-bio/issues/656) to track progress on this.\n",
      "\n",
      "We see that all `SequenceCollection`s are equal, even though their quality scores have been stored on disk using different encoding schemes. The in-memory representations of the Phred quality scores are identical!"
     ]
    },
    {
     "cell_type": "code",
     "collapsed": false,
     "input": [
      "all_equal(sc_original, sc_illumina13, sc_illumina18, sc_sanger)"
     ],
     "language": "python",
     "metadata": {},
     "outputs": [
      {
       "metadata": {},
       "output_type": "pyout",
       "prompt_number": 21,
       "text": [
        "True"
       ]
      }
     ],
     "prompt_number": 21
    },
    {
     "cell_type": "heading",
     "level": 2,
     "metadata": {},
     "source": [
      "Writing `SequenceCollection` to [FASTA/QUAL](http://scikit-bio.org/docs/latest/generated/skbio.io.fasta.html)"
     ]
    },
    {
     "cell_type": "markdown",
     "metadata": {},
     "source": [
      "As a final example, let's write one of our existing `SequenceCollection`s in [FASTA/QUAL](http://scikit-bio.org/docs/latest/generated/skbio.io.fasta.html) format. This example is different from what we've seen so far because the file format involves more than a single file (sequence data is stored in a FASTA file, and quality scores are stored in a QUAL file).\n",
      "\n",
      "We simply provide two filepaths when calling `write`:"
     ]
    },
    {
     "cell_type": "code",
     "collapsed": false,
     "input": [
      "sc_illumina13.write('data/s_1_1_0001.fasta', qual='data/s_1_1_0001.qual')"
     ],
     "language": "python",
     "metadata": {},
     "outputs": [],
     "prompt_number": 22
    },
    {
     "cell_type": "markdown",
     "metadata": {},
     "source": [
      "If we view the resulting FASTA and QUAL files, we see that the IDs, sequence data, and quality scores (now encoded as integer ASCII characters) match our previous results:"
     ]
    },
    {
     "cell_type": "code",
     "collapsed": false,
     "input": [
      "!head -4 data/s_1_1_0001.fasta"
     ],
     "language": "python",
     "metadata": {},
     "outputs": [
      {
       "output_type": "stream",
       "stream": "stdout",
       "text": [
        ">M10_68:1:1:19607:29475#0/1\r\n",
        "GACATAAGGGTGGTTAGTATACCGGCAAGGACGGGGTTACTAGTGACGTCCTTCCCCGTATGCCGGGCAATAATGTTTATGTTGGTTTCATGGTTTGGTCTAACTTTACCGCTACTAAATGCTGCGGATTGGTTTCGCTGAATCAGATTATT\r\n",
        ">M10_68:1:1:9095:29475#0/1\r\n",
        "GAATATCCTTAAGATGGCGTTCAGCAGCCCGCTTGCGGCCAAACTGCTTAACCGTCTTCTCGTTCTCTAAAAACCATTTTTCGTCCCCTTCGGGGCGGTGGTCTATAGTGTTATTAATATCAAGTTGGGGGAGCACATTGTAGCATTGTGCC\r\n"
       ]
      }
     ],
     "prompt_number": 23
    },
    {
     "cell_type": "code",
     "collapsed": false,
     "input": [
      "!head -4 data/s_1_1_0001.qual"
     ],
     "language": "python",
     "metadata": {},
     "outputs": [
      {
       "output_type": "stream",
       "stream": "stdout",
       "text": [
        ">M10_68:1:1:19607:29475#0/1\r\n",
        "26 31 31 35 28 10 17 32 35 35 27 27 31 27 34 38 38 38 27 27 32 17 34 36 39 37 31 25 25 15 15 8 15 30 35 6 27 6 21 34 31 22 8 13 8 22 32 20 32 36 2 2 2 2 2 2 2 2 2 2 2 2 2 2 2 2 2 2 2 2 2 2 2 2 2 2 2 2 2 2 2 2 2 2 2 2 2 2 2 2 2 2 2 2 2 2 2 2 2 2 2 2 2 2 2 2 2 2 2 2 2 2 2 2 2 2 2 2 2 2 2 2 2 2 2 2 2 2 2 2 2 2 2 2 2 2 2 2 2 2 2 2 2 2 2 2 2 2 2 2 2 2\r\n",
        ">M10_68:1:1:9095:29475#0/1\r\n",
        "16 16 25 32 33 35 35 30 27 35 37 37 35 34 31 10 34 36 30 38 38 40 40 40 37 36 36 37 38 35 38 40 25 37 37 40 37 15 31 37 32 7 23 37 36 35 36 37 40 37 27 36 36 36 35 35 35 35 34 34 34 30 31 33 33 33 33 31 26 20 20 25 31 33 33 33 33 33 35 36 33 33 31 33 33 33 33 33 33 33 33 30 12 24 24 29 33 33 27 29 33 33 33 33 18 29 33 35 35 35 31 33 33 35 33 32 25 29 31 33 35 32 25 29 31 31 29 31 24 5 8 15 15 20 27 30 31 25 31 29 32 27 32 32 33 35 33 33 31 33 32 33\r\n"
       ]
      }
     ],
     "prompt_number": 24
    }
   ],
   "metadata": {}
  }
 ]
}