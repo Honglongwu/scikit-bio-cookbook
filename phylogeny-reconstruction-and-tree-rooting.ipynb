{
 "metadata": {
  "name": "",
  "signature": "sha256:b79b3e76f4434383e74d6eba0c4047ddb6338b62171800a66ece8374628fe29e"
 },
 "nbformat": 3,
 "nbformat_minor": 0,
 "worksheets": [
  {
   "cells": [
    {
     "cell_type": "code",
     "collapsed": false,
     "input": [
      "from StringIO import StringIO\n",
      "from skbio.parse.sequences import parse_fasta\n",
      "from skbio import Alignment, ProteinSequence\n",
      "\n",
      "aln = Alignment.from_fasta_records(parse_fasta('data/globin-aln.fasta'), ProteinSequence)"
     ],
     "language": "python",
     "metadata": {},
     "outputs": [],
     "prompt_number": 1
    },
    {
     "cell_type": "code",
     "collapsed": false,
     "input": [
      "aln"
     ],
     "language": "python",
     "metadata": {},
     "outputs": [
      {
       "metadata": {},
       "output_type": "pyout",
       "prompt_number": 2,
       "text": [
        "<Alignment: n=43; mean +/- std length=154.00 +/- 0.00>"
       ]
      }
     ]
    },
    {
     "cell_type": "code",
     "collapsed": false,
     "input": [
      "dm = aln.distances()\n",
      "print(dm)"
     ],
     "language": "python",
     "metadata": {},
     "outputs": []
    },
    {
     "cell_type": "code",
     "collapsed": false,
     "input": [
      "from skbio.tree import nj\n",
      "tree = nj(dm)\n",
      "print(tree.ascii_art())"
     ],
     "language": "python",
     "metadata": {},
     "outputs": []
    },
    {
     "cell_type": "code",
     "collapsed": false,
     "input": [
      "tree = tree.root_at_midpoint()"
     ],
     "language": "python",
     "metadata": {},
     "outputs": []
    },
    {
     "cell_type": "code",
     "collapsed": false,
     "input": [
      "print(tree.ascii_art())"
     ],
     "language": "python",
     "metadata": {},
     "outputs": []
    },
    {
     "cell_type": "code",
     "collapsed": false,
     "input": [
      "new_root = tree.find('myoglobin').ancestors()[0]"
     ],
     "language": "python",
     "metadata": {},
     "outputs": []
    },
    {
     "cell_type": "code",
     "collapsed": false,
     "input": [
      "print new_root"
     ],
     "language": "python",
     "metadata": {},
     "outputs": []
    },
    {
     "cell_type": "code",
     "collapsed": false,
     "input": [
      "rerooted_tree = tree.root_at(new_root)"
     ],
     "language": "python",
     "metadata": {},
     "outputs": []
    },
    {
     "cell_type": "code",
     "collapsed": false,
     "input": [
      "print(rerooted_tree)"
     ],
     "language": "python",
     "metadata": {},
     "outputs": []
    },
    {
     "cell_type": "code",
     "collapsed": false,
     "input": [
      "print(rerooted_tree.ascii_art())"
     ],
     "language": "python",
     "metadata": {},
     "outputs": []
    },
    {
     "cell_type": "code",
     "collapsed": false,
     "input": [
      "entropies = aln.position_entropies(base=21, nan_on_non_standard_chars=False)\n",
      "\n",
      "from pylab import figure\n",
      "\n",
      "fig = figure()\n",
      "ax = fig.add_subplot(111)\n",
      "ax.plot(range(len(entropies)), entropies, '-')\n",
      "fig.autofmt_xdate()"
     ],
     "language": "python",
     "metadata": {},
     "outputs": []
    },
    {
     "cell_type": "code",
     "collapsed": false,
     "input": [
      "entropy_filtered_aln = aln.subalignment(positions_to_keep=[i for i, e in enumerate(entropies) if 0.10 <= e <= 0.90])"
     ],
     "language": "python",
     "metadata": {},
     "outputs": []
    },
    {
     "cell_type": "code",
     "collapsed": false,
     "input": [
      "print(nj(entropy_filtered_aln.distances()).ascii_art())"
     ],
     "language": "python",
     "metadata": {},
     "outputs": []
    },
    {
     "cell_type": "code",
     "collapsed": false,
     "input": [],
     "language": "python",
     "metadata": {},
     "outputs": []
    }
   ],
   "metadata": {}
  }
 ]
}