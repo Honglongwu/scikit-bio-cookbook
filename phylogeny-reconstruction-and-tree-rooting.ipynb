{
 "metadata": {
  "name": "",
  "signature": "sha256:988259df1dbf0a1c4edb7dc47e58a2fe344550ce3805eb8593a8d93b4dcaf212"
 },
 "nbformat": 3,
 "nbformat_minor": 0,
 "worksheets": [
  {
   "cells": [
    {
     "cell_type": "code",
     "collapsed": false,
     "input": [
      "from skbio.parse.sequences import parse_fasta\n",
      "from skbio import SequenceCollection, ProteinSequence\n",
      "\n",
      "hb_seqs = \"\"\"> Homo sapiens (human; pdb: 4HHB)\n",
      "VHLTPEEKSAVTALWGKVNVDEVGGEALGRLLVVYPWTQRFFESFGDLSTPDAVMGNPKVKAHGKKVLGAFSDGLAHLD\n",
      "NLKGTFATLSELHCDKLHVDPENFRLLGNVLVCVLAHHFGKEFTPPVQAAYQKVVAGVANALAHKYH\n",
      "> Equus caballus (horse; pdb: 2DHB)\n",
      "VQLSGEEKAAVLALWDKVNEEEVGGEALGRLLVVYPWTQRFFDSFGDLSNPGAVMGNPKVKAHGKKVLHSFGEGVHHLD\n",
      "NLKGTFAALSELHCDKLHVDPENFRLLGNVLALVVARHFGKDFTPELQASYQKVVAGVANALAHKYH\n",
      "> Vulpes vulpes (red fox; gi: 122709)\n",
      "VHLTAEEKSLVTGLWGKVNVDEVGGEALGRLLIVYPWTQRFFDSFGDLSTPDAVMGNAKVKAHGKKVLNSFSDGLKNLD\n",
      "NLKGTFAKLSELHCDKLHVDPENFKLLGNVLVCVLAHHFGKEFTPQVQAAYQKVVAGVANALAHKYH\n",
      "> Ailurus fulgens (lesser panda; gi: 122553)\n",
      "VHLTGEEKAAVTGLWSKVNVDEVGGEALGRLLVVYPWTQRFFDSFGDLSSPDAVMGNPKVKAHGKKVLNSFSEGLKNLD\n",
      "NLKGTFAKLSELHCDKLHVDPENFKLLGNVLVCVLAHHFGKEFTPQVQAAYQKVVAGVANALAHKYH\n",
      "> Leptonychotes weddellii (Weddell seal; gi: 122625)\n",
      "VHLTAEEKSAVTALWGKVNVDEVGGEALGRLLVVYPWTQRFFDSFGDLSSPNAIMSNPKVKAHGKKVLNSFSDGLKNLD\n",
      "NLKGTFAKLSELHCDQLHVDPENFKLLGNVLVCVLAHHFGKEFTPQVQAAYQKVVAGVANALAHKYH\n",
      "> Procyon lotor (raccoon; gi: 122671)\n",
      "VHLTADEKTAVTTLWGKVNVEEVGGEALGRLLVVYPWTQRFFESFGDLSSADAIMGNPKVKAHGKKVLNSFSEGLKNLD\n",
      "NLKGTFAKLSELHCDKLHVDPENFRLLGNVLVCVLAHHFGKEFTPPVQAAYQKVVAGVANALAHKYH\n",
      "> Tarsius syrichta (Philippine tarsier; gi: 122699)\n",
      "MVHLTAEEKAAVTALWGKVDVEDVGGEALGRLLVVYPWTQRFFDSFGDLSTPAAVMSNAKVKAHGKKVLNAFSDGMAHLD\n",
      "NLKGTFAKLSELHCDKLHVDPENFRLLGNVLVCVLAHHFGKEFTPQVQAAYQKVVAGVATALAHKYH\n",
      "> Lepus europaeus (European hare; gi: 122623)\n",
      "MVHLSGEEKSAVTALWGKVNVEEVGGETLGRLLVVYPWTQRFFESFGDLSTASAVMGNPKVKAHGKKVLAAFSEGLSHLD\n",
      "NLKGTFAKLSELHCDKLHVDPENFRLLGNVLVIVLSHHFGKEFTPQVQAAYQKVVAGVANALAHKYH\n",
      "> Alouatta belzebul (howler, ie. NW monkey; gi: 62901565)\n",
      "MVHLTGDEKAAVTALWGKVNVDEVGGEALGRLLVVYPWTQRFFESFGDLSTPDAVMHNPKVKAHGKKVLGAFSDGLAHLD\n",
      "NLKGTFAQLSELHCDKLHVDPENFRLLGNVLVCVLAQHFGKEFTPQVQAAYQKVVAGVANALAHKYH\n",
      "> Cebus albifrons (capuchin, ie. NW monkey; gi: 122582)\n",
      "VHLTAEEKSAVTALWGKVNVDEVGGEALGRLLVVYPWTQRFFDSFGDLSTPDAVMNNPKVKAHGKKVLGAFSDGLTHLD\n",
      "NLKGTFAQLSELHCDKLHVDPENFRLLGNVLVCVLAHHFGKEFTPQVQAAYQKVVAGVATALAHKYH\n",
      "> Callicebus torquatus (titi, ie. NW monkey; gi: 62901559)\n",
      "MVHLTGEEKAAVTALWGKVNVEVGGEALGRLLVVYPWTQRFFESFGDLSSPDAVMSNKVKAHGKKVLGAFSDGLAHLD\n",
      "NLKSTFAQLSELHCDKLHVDPENFRLLGNVLVCVLAHHFGKEFTPQVQAAYQKVVAGVANALAHKYH\n",
      "> Chlorocebus aethiops (grivet, ie. OW monkey; gi: 122584)\n",
      "VHLTPEEKTAVTTLWGKVNVDEVGGEALGRLLVVYPWTQRFFESFGDLSSPDAVMGNPKVKAHGKKVLGAFSDGLAHLD\n",
      "NLKGTFAQLSELHCDKLHVDPENFKLLGNVLVCVLAHHFGKEFTPQVQAAYQKVVAGVANALAHKYH\n",
      "> Ateles belzebuth (spider monkey (NW); gi: 229304)\n",
      "VHLTGEEKSAVAALWGKVNVDEVGGEALGRLLVVYPWTQRFFESFSDLSTPDAVMSNPKVKAHGKKVLGAFSDGLAHLD\n",
      "NLKGTFAQLSELHCDKLHVDPENFRLLGNVLVCVLAHHFGKEFTPQLQAAYQKVVAGVANALAHKYH\n",
      "> Megaderma lyra (false vampire bat; gi: 122638)\n",
      "VHLTNEEKTAVIGLWGKVNVEEVGGEALGRLLVVYPWTQRFFESFGDLSSPSAIMGNPKVKAHGKKVLNSFSEGLKNLD\n",
      "NLKGTFAKLSELHCDKLHVDPENFRLLGYILLCVLARHFGKEFTPQVQAAYQKVVAGVATALAHKYH\n",
      "> Rousettus aegyptiacus (Egyptian fruit bat; gi: 122681)\n",
      "VHLSGEEKAAVTALWGKVKVEEVGGEALGRLLVVYPWTQRFFDSFGDLSSASAVMSNPKVKAHGKKVLDSFSEGLQHLD\n",
      "SLKGTFAKLSELHCDKLHVDPENFRLLGNVLVCVLARHFGKEFTPQVQAAYQKVVAGVATALAHKYH\n",
      "> Ctenodactylus gundi (common gundi; gi: 122596)\n",
      "VHLSAEEKAAVTGLWGKVNVEEVGGEALGRLLVVYPWTQRFFESFGDLSSAAAVMGNPKVKAHGKKVLTSFSEGLSHLD\n",
      "NLKGTFAKLSELHCDKLHVDPENFRLLGNMIVITLAHHYGPEFGPQTQAAFQKVVAGVANALAHKYH\n",
      "> Balaenoptera acutorostrata (minke whale; gi: 122568)\n",
      "VHLTAEEKSAVTALWAKVNVEEVGGEALGRLLVVYPWTQRFFEAFGDLSTADAVMKNPKVKAHGKKVLASFSDGLKHLD\n",
      "DLKGTFATLSELHCDKLHVDPENFRLLGNVLVIVLARHFGKEFTPELQAAYQKVVAGVANALAHKYH\n",
      "> Erinaceus europaeus (European hedgehog; gi: 122606)\n",
      "VHLTAEEKALVTGLWGKVKVEEFGGEALGRLLVVYPWTQRFFDSFGDLSSADAVMGNPKVKAHGAKVLQSMGDGIKNLD\n",
      "NLKGTFSKLSELHCDKLHVDPENFRLLGNVLVCVLARHFGKDFTPAAQAAFQKVVAGVANALAAKYH\n",
      "> Talpa europaea (European mole; gi: 122696)\n",
      "VHLSGEEKGLVTGMWGKVNVDEVGGEALGRLLVVYPWTQRFFDSFGDLSSASAIMGNAKVKAHGKKVANSITDGVKNLD\n",
      "NLKGTYAKLSELHCDKLHVDPENFRLLGNVLVCVLARNLGKEFTPQAQAAFQKVVLGVATALAHKYH\n",
      "> Rattus norvegicus (Norway rat; gi: 17985949)\n",
      "MVHLTDAEKAAVNGLWGKVNPDDVGGEALGRLLVVYPWTQRYFDSFGDLSSASAIMGNPKVKAHGKKVINAFNDGLKHLD\n",
      "NLKGTFAHLSELHCDKLHVDPENFRLLGNMIVIVLGHHLGKEFTPCAQAAFQKVVAGVASALAHKYH\n",
      ">sp|P02144|MYG_HUMAN Myoglobin OS=Homo sapiens GN=MB PE=1 SV=2\n",
      "MGLSDGEWQLVLNVWGKVEADIPGHGQEVLIRLFKGHPETLEKFDKFKHLKSEDEMKASE\n",
      "DLKKHGATVLTALGGILKKKGHHEAEIKPLAQSHATKHKIPVKYLEFISECIIQVLQSKH\n",
      "PGDFGADAQGAMNKALELFRKDMASNYKELGFQG\n",
      "\"\"\".split('\\n')\n",
      "\n",
      "seqs = SequenceCollection.from_fasta_records(list(parse_fasta(hb_seqs)), ProteinSequence)"
     ],
     "language": "python",
     "metadata": {},
     "outputs": [],
     "prompt_number": 1
    },
    {
     "cell_type": "code",
     "collapsed": false,
     "input": [
      "seqs"
     ],
     "language": "python",
     "metadata": {},
     "outputs": [
      {
       "metadata": {},
       "output_type": "pyout",
       "prompt_number": 2,
       "text": [
        "<SequenceCollection: n=21; mean +/- std length=146.52 +/- 1.74>"
       ]
      }
     ],
     "prompt_number": 2
    },
    {
     "cell_type": "code",
     "collapsed": false,
     "input": [
      "warnings.simplefilter('ignore')\n",
      "from skbio.alignment import global_pairwise_align_protein\n",
      "from skbio import DistanceMatrix\n",
      "\n",
      "distances = np.zeros((seqs.sequence_count(), seqs.sequence_count()))\n",
      "\n",
      "\n",
      "for i, seq1 in enumerate(seqs):\n",
      "    for j, seq2 in enumerate(seqs[:i]):\n",
      "        alignment = global_pairwise_align_protein(seq1, seq2)\n",
      "        distances[i, j] = distances[j, i] = alignment.distances()[0,1]"
     ],
     "language": "python",
     "metadata": {},
     "outputs": [],
     "prompt_number": 3
    },
    {
     "cell_type": "code",
     "collapsed": false,
     "input": [
      "dm = DistanceMatrix(distances, seqs.ids())\n",
      "print(dm)"
     ],
     "language": "python",
     "metadata": {},
     "outputs": [
      {
       "output_type": "stream",
       "stream": "stdout",
       "text": [
        "21x21 distance matrix\n",
        "IDs:\n",
        "Homo, Equus, Vulpes, Ailurus, Leptonychotes, Procyon, Tarsius, Lepus, Alouatta, ...\n",
        "Data:\n",
        "[[ 0.          0.17808219  0.0890411   0.09589041  0.09589041  0.09589041\n",
        "   0.10204082  0.0952381   0.05442177  0.04794521  0.06802721  0.04109589\n",
        "   0.04794521  0.1369863   0.13013699  0.15753425  0.09589041  0.17808219\n",
        "   0.20547945  0.19047619  0.75324675]\n",
        " [ 0.17808219  0.          0.20547945  0.16438356  0.19863014  0.19178082\n",
        "   0.19727891  0.17687075  0.18367347  0.18493151  0.19047619  0.19178082\n",
        "   0.17808219  0.19178082  0.15753425  0.20547945  0.17123288  0.20547945\n",
        "   0.23972603  0.2585034   0.7375    ]\n",
        " [ 0.0890411   0.20547945  0.          0.05479452  0.06164384  0.09589041\n",
        "   0.10884354  0.13605442  0.11564626  0.08219178  0.12244898  0.0890411\n",
        "   0.10958904  0.12328767  0.14383562  0.16438356  0.13013699  0.14383562\n",
        "   0.15068493  0.20408163  0.74025974]\n",
        " [ 0.09589041  0.16438356  0.05479452  0.          0.06164384  0.07534247\n",
        "   0.12244898  0.12244898  0.10204082  0.09589041  0.10204082  0.07534247\n",
        "   0.10958904  0.09589041  0.10273973  0.1369863   0.1369863   0.14383562\n",
        "   0.15753425  0.18367347  0.74675325]\n",
        " [ 0.09589041  0.19863014  0.06164384  0.06164384  0.          0.08219178\n",
        "   0.10884354  0.13605442  0.11564626  0.08219178  0.10884354  0.0890411\n",
        "   0.10273973  0.10958904  0.11643836  0.16438356  0.13013699  0.16438356\n",
        "   0.16438356  0.19047619  0.75324675]\n",
        " [ 0.09589041  0.19178082  0.09589041  0.07534247  0.08219178  0.\n",
        "   0.13605442  0.11564626  0.11564626  0.11643836  0.12244898  0.0890411\n",
        "   0.13013699  0.08219178  0.11643836  0.13013699  0.11643836  0.14383562\n",
        "   0.17123288  0.18367347  0.75974026]\n",
        " [ 0.10204082  0.19727891  0.10884354  0.12244898  0.10884354  0.13605442\n",
        "   0.          0.12244898  0.0952381   0.08163265  0.08163265  0.11564626\n",
        "   0.10884354  0.14965986  0.10884354  0.17006803  0.14965986  0.18367347\n",
        "   0.19727891  0.19047619  0.76774194]\n",
        " [ 0.0952381   0.17687075  0.13605442  0.12244898  0.13605442  0.11564626\n",
        "   0.12244898  0.          0.10204082  0.10884354  0.10884354  0.11564626\n",
        "   0.10884354  0.14285714  0.10204082  0.12244898  0.11564626  0.20408163\n",
        "   0.20408163  0.19047619  0.75      ]\n",
        " [ 0.05442177  0.18367347  0.11564626  0.10204082  0.11564626  0.11564626\n",
        "   0.0952381   0.10204082  0.          0.06122449  0.04761905  0.06122449\n",
        "   0.05442177  0.14965986  0.12244898  0.17006803  0.12244898  0.19047619\n",
        "   0.21088435  0.19047619  0.74358974]\n",
        " [ 0.04794521  0.18493151  0.08219178  0.09589041  0.08219178  0.11643836\n",
        "   0.08163265  0.10884354  0.06122449  0.          0.07482993  0.06164384\n",
        "   0.05479452  0.1369863   0.10958904  0.16438356  0.10958904  0.17808219\n",
        "   0.19178082  0.19047619  0.74675325]\n",
        " [ 0.06802721  0.19047619  0.12244898  0.10204082  0.10884354  0.12244898\n",
        "   0.08163265  0.10884354  0.04761905  0.07482993  0.          0.06122449\n",
        "   0.06122449  0.14965986  0.11564626  0.16326531  0.13605442  0.19047619\n",
        "   0.21088435  0.19727891  0.75483871]\n",
        " [ 0.04109589  0.19178082  0.0890411   0.07534247  0.0890411   0.0890411\n",
        "   0.11564626  0.11564626  0.06122449  0.06164384  0.06122449  0.\n",
        "   0.06164384  0.12328767  0.13013699  0.15068493  0.13013699  0.17808219\n",
        "   0.19863014  0.19047619  0.74675325]\n",
        " [ 0.04794521  0.17808219  0.10958904  0.10958904  0.10273973  0.13013699\n",
        "   0.10884354  0.10884354  0.05442177  0.05479452  0.06122449  0.06164384\n",
        "   0.          0.15068493  0.13013699  0.17123288  0.10958904  0.19863014\n",
        "   0.21232877  0.20408163  0.75324675]\n",
        " [ 0.1369863   0.19178082  0.12328767  0.09589041  0.10958904  0.08219178\n",
        "   0.14965986  0.14285714  0.14965986  0.1369863   0.14965986  0.12328767\n",
        "   0.15068493  0.          0.11643836  0.15753425  0.15753425  0.17808219\n",
        "   0.16438356  0.19727891  0.75483871]\n",
        " [ 0.13013699  0.15753425  0.14383562  0.10273973  0.11643836  0.11643836\n",
        "   0.10884354  0.10204082  0.12244898  0.10958904  0.11564626  0.13013699\n",
        "   0.13013699  0.11643836  0.          0.1369863   0.13013699  0.15753425\n",
        "   0.16438356  0.21088435  0.7483871 ]\n",
        " [ 0.15753425  0.20547945  0.16438356  0.1369863   0.16438356  0.13013699\n",
        "   0.17006803  0.12244898  0.17006803  0.16438356  0.16326531  0.15068493\n",
        "   0.17123288  0.15753425  0.1369863   0.          0.15753425  0.18493151\n",
        "   0.20547945  0.18367347  0.75324675]\n",
        " [ 0.09589041  0.17123288  0.13013699  0.1369863   0.13013699  0.11643836\n",
        "   0.14965986  0.11564626  0.12244898  0.10958904  0.13605442  0.13013699\n",
        "   0.10958904  0.15753425  0.13013699  0.15753425  0.          0.17123288\n",
        "   0.21917808  0.21768707  0.76129032]\n",
        " [ 0.17808219  0.20547945  0.14383562  0.14383562  0.16438356  0.14383562\n",
        "   0.18367347  0.20408163  0.19047619  0.17808219  0.19047619  0.17808219\n",
        "   0.19863014  0.17808219  0.15753425  0.18493151  0.17123288  0.\n",
        "   0.17123288  0.2244898   0.71612903]\n",
        " [ 0.20547945  0.23972603  0.15068493  0.15753425  0.16438356  0.17123288\n",
        "   0.19727891  0.20408163  0.21088435  0.19178082  0.21088435  0.19863014\n",
        "   0.21232877  0.16438356  0.16438356  0.20547945  0.21917808  0.17123288\n",
        "   0.          0.19727891  0.74025974]\n",
        " [ 0.19047619  0.2585034   0.20408163  0.18367347  0.19047619  0.18367347\n",
        "   0.19047619  0.19047619  0.19047619  0.19047619  0.19727891  0.19047619\n",
        "   0.20408163  0.19727891  0.21088435  0.18367347  0.21768707  0.2244898\n",
        "   0.19727891  0.          0.72435897]\n",
        " [ 0.75324675  0.7375      0.74025974  0.74675325  0.75324675  0.75974026\n",
        "   0.76774194  0.75        0.74358974  0.74675325  0.75483871  0.74675325\n",
        "   0.75324675  0.75483871  0.7483871   0.75324675  0.76129032  0.71612903\n",
        "   0.74025974  0.72435897  0.        ]]\n"
       ]
      }
     ],
     "prompt_number": 4
    },
    {
     "cell_type": "code",
     "collapsed": false,
     "input": [
      "from skbio.tree import nj\n",
      "tree = nj(dm)\n",
      "print(tree.ascii_art())"
     ],
     "language": "python",
     "metadata": {},
     "outputs": [
      {
       "output_type": "stream",
       "stream": "stdout",
       "text": [
        "                              /-Tarsius\n",
        "                             |\n",
        "                    /--------|          /-Cebus\n",
        "                   |         |         |\n",
        "                   |          \\--------|                    /-Chlorocebus\n",
        "                   |                   |          /--------|\n",
        "                   |                   |         |          \\-Homo\n",
        "                   |                    \\--------|\n",
        "                   |                             |          /-Ateles\n",
        "                   |                              \\--------|\n",
        "                   |                                       |          /-Callicebus\n",
        "          /--------|                                        \\--------|\n",
        "         |         |                                                  \\-Alouatta\n",
        "         |         |\n",
        "         |         |                    /-Erinaceus\n",
        "         |         |          /--------|\n",
        "         |         |         |         |          /-Talpa\n",
        "         |         |         |          \\--------|\n",
        "         |         |         |                   |          /-sp|P02144|MYG HUMAN\n",
        "         |         |         |                    \\--------|\n",
        "         |          \\--------|                              \\-Rattus\n",
        "         |                   |\n",
        "         |                   |                    /-Megaderma\n",
        "         |                   |          /--------|\n",
        "         |                   |         |          \\-Procyon\n",
        "---------|                    \\--------|\n",
        "         |                             |          /-Ailurus\n",
        "         |                              \\--------|\n",
        "         |                                       |          /-Leptonychotes\n",
        "         |                                        \\--------|\n",
        "         |                                                  \\-Vulpes\n",
        "         |\n",
        "         |          /-Rousettus\n",
        "         |---------|\n",
        "         |         |          /-Ctenodactylus\n",
        "         |          \\--------|\n",
        "         |                    \\-Lepus\n",
        "         |\n",
        "         |          /-Balaenoptera\n",
        "          \\--------|\n",
        "                    \\-Equus\n"
       ]
      }
     ],
     "prompt_number": 5
    },
    {
     "cell_type": "code",
     "collapsed": false,
     "input": [
      "new_root = tree.find('sp|P02144|MYG HUMAN').ancestors()[0]"
     ],
     "language": "python",
     "metadata": {},
     "outputs": [],
     "prompt_number": 6
    },
    {
     "cell_type": "code",
     "collapsed": false,
     "input": [
      "print new_root"
     ],
     "language": "python",
     "metadata": {},
     "outputs": [
      {
       "output_type": "stream",
       "stream": "stdout",
       "text": [
        "(sp|P02144|MYG_HUMAN:0.636703,Rattus:0.087656):0.01397;\n"
       ]
      }
     ],
     "prompt_number": 7
    },
    {
     "cell_type": "code",
     "collapsed": false,
     "input": [
      "rerooted_tree = tree.root_at(new_root)"
     ],
     "language": "python",
     "metadata": {},
     "outputs": [],
     "prompt_number": 8
    },
    {
     "cell_type": "code",
     "collapsed": false,
     "input": [
      "print(rerooted_tree)"
     ],
     "language": "python",
     "metadata": {},
     "outputs": [
      {
       "output_type": "stream",
       "stream": "stdout",
       "text": [
        "(sp|P02144|MYG_HUMAN:0.636703,Rattus:0.087656,(Talpa:0.09262,(Erinaceus:0.081685,(((Megaderma:0.052703,Procyon:0.029489):0.009176,(Ailurus:0.024635,(Leptonychotes:0.029598,Vulpes:0.032046):0.002762):0.014797):0.009054,((Tarsius:0.052826,(Cebus:0.025958,((Chlorocebus:0.023786,Homo:0.01731):0.004979,(Ateles:0.029023,(Callicebus:0.025156,Alouatta:0.022463):0.00499):0.003571):0.00314):0.01081):0.017978,((Rousettus:0.048368,(Ctenodactylus:0.074998,Lepus:0.047451):0.009921):0.001684,(Balaenoptera:0.063139,Equus:0.108094):0.006802):0.0024):0.007288):0.019434):0.004702):0.01397)root;\n"
       ]
      }
     ],
     "prompt_number": 9
    },
    {
     "cell_type": "code",
     "collapsed": false,
     "input": [
      "print(rerooted_tree.ascii_art())"
     ],
     "language": "python",
     "metadata": {},
     "outputs": [
      {
       "output_type": "stream",
       "stream": "stdout",
       "text": [
        "          /-sp|P02144|MYG HUMAN\n",
        "         |\n",
        "         |--Rattus\n",
        "         |\n",
        "-root----|          /-Talpa\n",
        "         |         |\n",
        "         |         |          /-Erinaceus\n",
        "         |         |         |\n",
        "          \\--------|         |                              /-Megaderma\n",
        "                   |         |                    /--------|\n",
        "                   |         |                   |          \\-Procyon\n",
        "                   |         |          /--------|\n",
        "                    \\--------|         |         |          /-Ailurus\n",
        "                             |         |          \\--------|\n",
        "                             |         |                   |          /-Leptonychotes\n",
        "                             |         |                    \\--------|\n",
        "                             |         |                              \\-Vulpes\n",
        "                             |         |\n",
        "                             |         |                    /-Tarsius\n",
        "                              \\--------|                   |\n",
        "                                       |          /--------|          /-Cebus\n",
        "                                       |         |         |         |\n",
        "                                       |         |          \\--------|                    /-Chlorocebus\n",
        "                                       |         |                   |          /--------|\n",
        "                                       |         |                   |         |          \\-Homo\n",
        "                                       |         |                    \\--------|\n",
        "                                       |         |                             |          /-Ateles\n",
        "                                       |         |                              \\--------|\n",
        "                                        \\--------|                                       |          /-Callicebus\n",
        "                                                 |                                        \\--------|\n",
        "                                                 |                                                  \\-Alouatta\n",
        "                                                 |\n",
        "                                                 |                    /-Rousettus\n",
        "                                                 |          /--------|\n",
        "                                                 |         |         |          /-Ctenodactylus\n",
        "                                                 |         |          \\--------|\n",
        "                                                  \\--------|                    \\-Lepus\n",
        "                                                           |\n",
        "                                                           |          /-Balaenoptera\n",
        "                                                            \\--------|\n",
        "                                                                      \\-Equus\n"
       ]
      }
     ],
     "prompt_number": 10
    },
    {
     "cell_type": "code",
     "collapsed": false,
     "input": [],
     "language": "python",
     "metadata": {},
     "outputs": [],
     "prompt_number": 10
    }
   ],
   "metadata": {}
  }
 ]
}