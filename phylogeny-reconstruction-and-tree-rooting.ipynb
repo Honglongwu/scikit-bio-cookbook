{
 "metadata": {
  "name": "",
  "signature": "sha256:3601995814680bf071a48a2cc6ef4ffff87344aae59832ec9669a0a3f6c782b1"
 },
 "nbformat": 3,
 "nbformat_minor": 0,
 "worksheets": [
  {
   "cells": [
    {
     "cell_type": "code",
     "collapsed": false,
     "input": [
      "from skbio.parse.sequences import parse_fasta\n",
      "from skbio import Alignment, ProteinSequence\n",
      "\n",
      "hb_seqs = \"\"\">myoglobin\n",
      "-MGLSDGEWQLVLNVWGKVEADIPGHGQEVLIRLFKGHPETLEKFDKFKHLKSEDEMKASEDLKKHGATVLTALGGILKKKGHHEAEIKPLAQSHATKHKIPVKYLEFISECIIQVLQSKHPG-DFGADAQGAMNKALELFRKDMASNYKELGFQG\n",
      ">Rattus.norvegicus-Norway.rat\n",
      "MVHLTDAEKAAVNGLWGKVNPD--DVGGEALGRLLVVYPWTQRYFDSFGDLSSASAIMGNPKVKAHGKKVINAFNDGLKHLDNLKGTFAHLSELHCDKLHVDPENFRLLGNMIVIVL-GHHLGKEFTPCAQAAFQKVVAGVASALAHKYH------\n",
      ">Talpa.europaea-European.mole\n",
      "-VHLSGEEKGLVTGMWGKVNVD--EVGGEALGRLLVVYPWTQRFFDSFGDLSSASAIMGNAKVKAHGKKVANSITDGVKNLDNLKGTYAKLSELHCDKLHVDPENFRLLGNVLVCVL-ARNLGKEFTPQAQAAFQKVVLGVATALAHKYH------\n",
      ">Equus.caballus-horse\n",
      "-VQLSGEEKAAVLALWDKVNEE--EVGGEALGRLLVVYPWTQRFFDSFGDLSNPGAVMGNPKVKAHGKKVLHSFGEGVHHLDNLKGTFAALSELHCDKLHVDPENFRLLGNVLALVV-ARHFGKDFTPELQASYQKVVAGVANALAHKYH------\n",
      ">Erinaceus.europaeus-European.hedgehog\n",
      "-VHLTAEEKALVTGLWGKVKVE--EFGGEALGRLLVVYPWTQRFFDSFGDLSSADAVMGNPKVKAHGAKVLQSMGDGIKNLDNLKGTFSKLSELHCDKLHVDPENFRLLGNVLVCVL-ARHFGKDFTPAAQAAFQKVVAGVANALAAKYH------\n",
      ">Balaenoptera.acutorostrata-minke.whale\n",
      "-VHLTAEEKSAVTALWAKVNVE--EVGGEALGRLLVVYPWTQRFFEAFGDLSTADAVMKNPKVKAHGKKVLASFSDGLKHLDDLKGTFATLSELHCDKLHVDPENFRLLGNVLVIVL-ARHFGKEFTPELQAAYQKVVAGVANALAHKYH------\n",
      ">Procyon.lotor-raccoon\n",
      "-VHLTADEKTAVTTLWGKVNVE--EVGGEALGRLLVVYPWTQRFFESFGDLSSADAIMGNPKVKAHGKKVLNSFSEGLKNLDNLKGTFAKLSELHCDKLHVDPENFRLLGNVLVCVL-AHHFGKEFTPPVQAAYQKVVAGVANALAHKYH------\n",
      ">Megaderma.lyra-false.vampire.bat\n",
      "-VHLTNEEKTAVIGLWGKVNVE--EVGGEALGRLLVVYPWTQRFFESFGDLSSPSAIMGNPKVKAHGKKVLNSFSEGLKNLDNLKGTFAKLSELHCDKLHVDPENFRLLGYILLCVL-ARHFGKEFTPQVQAAYQKVVAGVATALAHKYH------\n",
      ">Lepus.europaeus-European.hare\n",
      "MVHLSGEEKSAVTALWGKVNVE--EVGGETLGRLLVVYPWTQRFFESFGDLSTASAVMGNPKVKAHGKKVLAAFSEGLSHLDNLKGTFAKLSELHCDKLHVDPENFRLLGNVLVIVL-SHHFGKEFTPQVQAAYQKVVAGVANALAHKYH------\n",
      ">Ctenodactylus.gundi-common.gundi\n",
      "-VHLSAEEKAAVTGLWGKVNVE--EVGGEALGRLLVVYPWTQRFFESFGDLSSAAAVMGNPKVKAHGKKVLTSFSEGLSHLDNLKGTFAKLSELHCDKLHVDPENFRLLGNMIVITL-AHHYGPEFGPQTQAAFQKVVAGVANALAHKYH------\n",
      ">Tarsius.syrichta-Philippine.tarsier\n",
      "MVHLTAEEKAAVTALWGKVDVE--DVGGEALGRLLVVYPWTQRFFDSFGDLSTPAAVMSNAKVKAHGKKVLNAFSDGMAHLDNLKGTFAKLSELHCDKLHVDPENFRLLGNVLVCVL-AHHFGKEFTPQVQAAYQKVVAGVATALAHKYH------\n",
      ">Rousettus.aegyptiacus-Egyptian.fruit.bat\n",
      "-VHLSGEEKAAVTALWGKVKVE--EVGGEALGRLLVVYPWTQRFFDSFGDLSSASAVMSNPKVKAHGKKVLDSFSEGLQHLDSLKGTFAKLSELHCDKLHVDPENFRLLGNVLVCVL-ARHFGKEFTPQVQAAYQKVVAGVATALAHKYH------\n",
      ">Ailurus.fulgens-lesser.panda\n",
      "-VHLTGEEKAAVTGLWSKVNVD--EVGGEALGRLLVVYPWTQRFFDSFGDLSSPDAVMGNPKVKAHGKKVLNSFSEGLKNLDNLKGTFAKLSELHCDKLHVDPENFKLLGNVLVCVL-AHHFGKEFTPQVQAAYQKVVAGVANALAHKYH------\n",
      ">Vulpes.vulpes-red.fox\n",
      "-VHLTAEEKSLVTGLWGKVNVD--EVGGEALGRLLIVYPWTQRFFDSFGDLSTPDAVMGNAKVKAHGKKVLNSFSDGLKNLDNLKGTFAKLSELHCDKLHVDPENFKLLGNVLVCVL-AHHFGKEFTPQVQAAYQKVVAGVANALAHKYH------\n",
      ">Leptonychotes.weddellii-Weddell.seal\n",
      "-VHLTAEEKSAVTALWGKVNVD--EVGGEALGRLLVVYPWTQRFFDSFGDLSSPNAIMSNPKVKAHGKKVLNSFSDGLKNLDNLKGTFAKLSELHCDQLHVDPENFKLLGNVLVCVL-AHHFGKEFTPQVQAAYQKVVAGVANALAHKYH------\n",
      ">Cebus.albifrons-capuchin\n",
      "-VHLTAEEKSAVTALWGKVNVD--EVGGEALGRLLVVYPWTQRFFDSFGDLSTPDAVMNNPKVKAHGKKVLGAFSDGLTHLDNLKGTFAQLSELHCDKLHVDPENFRLLGNVLVCVL-AHHFGKEFTPQVQAAYQKVVAGVATALAHKYH------\n",
      ">Callicebus.torquatus-titi\n",
      "MVHLTGEEKAAVTALWGKVNV---EVGGEALGRLLVVYPWTQRFFESFGDLSSPDAVMSN-KVKAHGKKVLGAFSDGLAHLDNLKSTFAQLSELHCDKLHVDPENFRLLGNVLVCVL-AHHFGKEFTPQVQAAYQKVVAGVANALAHKYH------\n",
      ">Ateles.belzebuth-spider.monkey\n",
      "-VHLTGEEKSAVAALWGKVNVD--EVGGEALGRLLVVYPWTQRFFESFSDLSTPDAVMSNPKVKAHGKKVLGAFSDGLAHLDNLKGTFAQLSELHCDKLHVDPENFRLLGNVLVCVL-AHHFGKEFTPQLQAAYQKVVAGVANALAHKYH------\n",
      ">Chlorocebus.aethiops-grivet\n",
      "-VHLTPEEKTAVTTLWGKVNVD--EVGGEALGRLLVVYPWTQRFFESFGDLSSPDAVMGNPKVKAHGKKVLGAFSDGLAHLDNLKGTFAQLSELHCDKLHVDPENFKLLGNVLVCVL-AHHFGKEFTPQVQAAYQKVVAGVANALAHKYH------\n",
      ">Homo.sapiens-human\n",
      "-VHLTPEEKSAVTALWGKVNVD--EVGGEALGRLLVVYPWTQRFFESFGDLSTPDAVMGNPKVKAHGKKVLGAFSDGLAHLDNLKGTFATLSELHCDKLHVDPENFRLLGNVLVCVL-AHHFGKEFTPPVQAAYQKVVAGVANALAHKYH------\n",
      ">Alouatta.belzebul-howler\n",
      "MVHLTGDEKAAVTALWGKVNVD--EVGGEALGRLLVVYPWTQRFFESFGDLSTPDAVMHNPKVKAHGKKVLGAFSDGLAHLDNLKGTFAQLSELHCDKLHVDPENFRLLGNVLVCVL-AQHFGKEFTPQVQAAYQKVVAGVANALAHKYH------\n",
      "\"\"\".split('\\n')\n",
      "\n",
      "aln = Alignment.from_fasta_records(list(parse_fasta(hb_seqs)), ProteinSequence)"
     ],
     "language": "python",
     "metadata": {},
     "outputs": [],
     "prompt_number": 48
    },
    {
     "cell_type": "code",
     "collapsed": false,
     "input": [
      "aln"
     ],
     "language": "python",
     "metadata": {},
     "outputs": [
      {
       "metadata": {},
       "output_type": "pyout",
       "prompt_number": 49,
       "text": [
        "<Alignment: n=21; mean +/- std length=156.00 +/- 0.00>"
       ]
      }
     ],
     "prompt_number": 49
    },
    {
     "cell_type": "code",
     "collapsed": false,
     "input": [
      "dm = aln.distances()\n",
      "print(dm)"
     ],
     "language": "python",
     "metadata": {},
     "outputs": [
      {
       "output_type": "stream",
       "stream": "stdout",
       "text": [
        "21x21 distance matrix\n",
        "IDs:\n",
        "myoglobin, Rattus.norvegicus-Norway.rat, Talpa.europaea-European.mole, ...\n",
        "Data:\n",
        "[[ 0.          0.72435897  0.73717949  0.75641026  0.71153846  0.75641026\n",
        "   0.74358974  0.75        0.75        0.73717949  0.76282051  0.74358974\n",
        "   0.73717949  0.73076923  0.74358974  0.73717949  0.75        0.74358974\n",
        "   0.73717949  0.74358974  0.75      ]\n",
        " [ 0.72435897  0.          0.18589744  0.24358974  0.21153846  0.20512821\n",
        "   0.17307692  0.18589744  0.17948718  0.17307692  0.17948718  0.19871795\n",
        "   0.17307692  0.19230769  0.17948718  0.17948718  0.18589744  0.19230769\n",
        "   0.17948718  0.17948718  0.17948718]\n",
        " [ 0.73717949  0.18589744  0.          0.22435897  0.16025641  0.20512821\n",
        "   0.16025641  0.15384615  0.19230769  0.19230769  0.18589744  0.15384615\n",
        "   0.1474359   0.14102564  0.15384615  0.17948718  0.19871795  0.19871795\n",
        "   0.18589744  0.19230769  0.19871795]\n",
        " [ 0.75641026  0.24358974  0.22435897  0.          0.19230769  0.16025641\n",
        "   0.17948718  0.17948718  0.16666667  0.19230769  0.18589744  0.1474359\n",
        "   0.15384615  0.19230769  0.18589744  0.17307692  0.17948718  0.16666667\n",
        "   0.17948718  0.16666667  0.17307692]\n",
        " [ 0.71153846  0.21153846  0.16025641  0.19230769  0.          0.16025641\n",
        "   0.13461538  0.16666667  0.19230769  0.17307692  0.17307692  0.1474359\n",
        "   0.13461538  0.13461538  0.15384615  0.16666667  0.17948718  0.18589744\n",
        "   0.16666667  0.16666667  0.17948718]\n",
        " [ 0.75641026  0.20512821  0.20512821  0.16025641  0.16025641  0.\n",
        "   0.10897436  0.1474359   0.10897436  0.1474359   0.14102564  0.12179487\n",
        "   0.12820513  0.12179487  0.12179487  0.1025641   0.12820513  0.1025641\n",
        "   0.12179487  0.08974359  0.11538462]\n",
        " [ 0.74358974  0.17307692  0.16025641  0.17948718  0.13461538  0.10897436\n",
        "   0.          0.07692308  0.10897436  0.12179487  0.12820513  0.10897436\n",
        "   0.07051282  0.08974359  0.07692308  0.10897436  0.11538462  0.12179487\n",
        "   0.08333333  0.08974359  0.10897436]\n",
        " [ 0.75        0.18589744  0.15384615  0.17948718  0.16666667  0.1474359\n",
        "   0.07692308  0.          0.13461538  0.1474359   0.14102564  0.10897436\n",
        "   0.08974359  0.11538462  0.1025641   0.12820513  0.14102564  0.14102564\n",
        "   0.11538462  0.12820513  0.14102564]\n",
        " [ 0.75        0.17948718  0.19230769  0.16666667  0.19230769  0.10897436\n",
        "   0.10897436  0.13461538  0.          0.11538462  0.11538462  0.09615385\n",
        "   0.11538462  0.12820513  0.12820513  0.1025641   0.1025641   0.1025641\n",
        "   0.10897436  0.08974359  0.09615385]\n",
        " [ 0.73717949  0.17307692  0.19230769  0.19230769  0.17307692  0.1474359\n",
        "   0.12179487  0.1474359   0.11538462  0.          0.16025641  0.12820513\n",
        "   0.12820513  0.15384615  0.15384615  0.15384615  0.15384615  0.16025641\n",
        "   0.14102564  0.1474359   0.16025641]\n",
        " [ 0.76282051  0.17948718  0.18589744  0.18589744  0.17307692  0.14102564\n",
        "   0.12820513  0.14102564  0.11538462  0.16025641  0.          0.1025641\n",
        "   0.11538462  0.1025641   0.1025641   0.07692308  0.08333333  0.1025641\n",
        "   0.10897436  0.09615385  0.08974359]\n",
        " [ 0.74358974  0.19871795  0.15384615  0.1474359   0.1474359   0.12179487\n",
        "   0.10897436  0.10897436  0.09615385  0.12820513  0.1025641   0.\n",
        "   0.09615385  0.13461538  0.10897436  0.1025641   0.10897436  0.12179487\n",
        "   0.12179487  0.12179487  0.11538462]\n",
        " [ 0.73717949  0.17307692  0.1474359   0.15384615  0.13461538  0.12820513\n",
        "   0.07051282  0.08974359  0.11538462  0.12820513  0.11538462  0.09615385\n",
        "   0.          0.05128205  0.05769231  0.08974359  0.09615385  0.1025641\n",
        "   0.07051282  0.08974359  0.09615385]\n",
        " [ 0.73076923  0.19230769  0.14102564  0.19230769  0.13461538  0.12179487\n",
        "   0.08974359  0.11538462  0.12820513  0.15384615  0.1025641   0.13461538\n",
        "   0.05128205  0.          0.05769231  0.07692308  0.11538462  0.1025641\n",
        "   0.08333333  0.08333333  0.10897436]\n",
        " [ 0.74358974  0.17948718  0.15384615  0.18589744  0.15384615  0.12179487\n",
        "   0.07692308  0.1025641   0.12820513  0.15384615  0.1025641   0.10897436\n",
        "   0.05769231  0.05769231  0.          0.07692308  0.1025641   0.09615385\n",
        "   0.08333333  0.08974359  0.10897436]\n",
        " [ 0.73717949  0.17948718  0.17948718  0.17307692  0.16666667  0.1025641\n",
        "   0.10897436  0.12820513  0.1025641   0.15384615  0.07692308  0.1025641\n",
        "   0.08974359  0.07692308  0.07692308  0.          0.07051282  0.05128205\n",
        "   0.05769231  0.04487179  0.05769231]\n",
        " [ 0.75        0.18589744  0.19871795  0.17948718  0.17948718  0.12820513\n",
        "   0.11538462  0.14102564  0.1025641   0.15384615  0.08333333  0.10897436\n",
        "   0.09615385  0.11538462  0.1025641   0.07051282  0.          0.05769231\n",
        "   0.05769231  0.06410256  0.04487179]\n",
        " [ 0.74358974  0.19230769  0.19871795  0.16666667  0.18589744  0.1025641\n",
        "   0.12179487  0.14102564  0.1025641   0.16025641  0.1025641   0.12179487\n",
        "   0.1025641   0.1025641   0.09615385  0.05128205  0.05769231  0.\n",
        "   0.05769231  0.04487179  0.05128205]\n",
        " [ 0.73717949  0.17948718  0.18589744  0.17948718  0.16666667  0.12179487\n",
        "   0.08333333  0.11538462  0.10897436  0.14102564  0.10897436  0.12179487\n",
        "   0.07051282  0.08333333  0.08333333  0.05769231  0.05769231  0.05769231\n",
        "   0.          0.03846154  0.05769231]\n",
        " [ 0.74358974  0.17948718  0.19230769  0.16666667  0.16666667  0.08974359\n",
        "   0.08974359  0.12820513  0.08974359  0.1474359   0.09615385  0.12179487\n",
        "   0.08974359  0.08333333  0.08974359  0.04487179  0.06410256  0.04487179\n",
        "   0.03846154  0.          0.05128205]\n",
        " [ 0.75        0.17948718  0.19871795  0.17307692  0.17948718  0.11538462\n",
        "   0.10897436  0.14102564  0.09615385  0.16025641  0.08974359  0.11538462\n",
        "   0.09615385  0.10897436  0.10897436  0.05769231  0.04487179  0.05128205\n",
        "   0.05769231  0.05128205  0.        ]]\n"
       ]
      }
     ],
     "prompt_number": 50
    },
    {
     "cell_type": "code",
     "collapsed": false,
     "input": [
      "from skbio.tree import nj\n",
      "tree = nj(dm)\n",
      "print(tree.ascii_art())"
     ],
     "language": "python",
     "metadata": {},
     "outputs": [
      {
       "output_type": "stream",
       "stream": "stdout",
       "text": [
        "                              /-Balaenoptera.acutorostrata-minke.whale\n",
        "                    /--------|\n",
        "                   |          \\-Equus.caballus-horse\n",
        "                   |\n",
        "                   |                    /-Ctenodactylus.gundi-common.gundi\n",
        "                   |                   |\n",
        "          /--------|          /--------|                    /-Rattus.norvegicus-Norway.rat\n",
        "         |         |         |         |          /--------|\n",
        "         |         |         |         |         |          \\-myoglobin\n",
        "         |         |         |          \\--------|\n",
        "         |         |         |                   |          /-Erinaceus.europaeus-European.hedgehog\n",
        "         |          \\--------|                    \\--------|\n",
        "         |                   |                              \\-Talpa.europaea-European.mole\n",
        "         |                   |\n",
        "         |                   |                    /-Megaderma.lyra-false.vampire.bat\n",
        "         |                   |          /--------|\n",
        "         |                   |         |          \\-Procyon.lotor-raccoon\n",
        "         |                    \\--------|\n",
        "         |                             |          /-Ailurus.fulgens-lesser.panda\n",
        "         |                              \\--------|\n",
        "         |                                       |          /-Leptonychotes.weddellii-Weddell.seal\n",
        "         |                                        \\--------|\n",
        "         |                                                  \\-Vulpes.vulpes-red.fox\n",
        "---------|\n",
        "         |          /-Lepus.europaeus-European.hare\n",
        "         |         |\n",
        "         |---------|          /-Tarsius.syrichta-Philippine.tarsier\n",
        "         |         |         |\n",
        "         |          \\--------|          /-Cebus.albifrons-capuchin\n",
        "         |                   |         |\n",
        "         |                    \\--------|                    /-Homo.sapiens-human\n",
        "         |                             |          /--------|\n",
        "         |                             |         |          \\-Chlorocebus.aethiops-grivet\n",
        "         |                              \\--------|\n",
        "         |                                       |          /-Ateles.belzebuth-spider.monkey\n",
        "         |                                        \\--------|\n",
        "         |                                                 |          /-Alouatta.belzebul-howler\n",
        "         |                                                  \\--------|\n",
        "         |                                                            \\-Callicebus.torquatus-titi\n",
        "         |\n",
        "          \\-Rousettus.aegyptiacus-Egyptian.fruit.bat\n"
       ]
      }
     ],
     "prompt_number": 51
    },
    {
     "cell_type": "code",
     "collapsed": false,
     "input": [
      "new_root = tree.find('myoglobin').ancestors()[0]"
     ],
     "language": "python",
     "metadata": {},
     "outputs": [],
     "prompt_number": 52
    },
    {
     "cell_type": "code",
     "collapsed": false,
     "input": [
      "print new_root"
     ],
     "language": "python",
     "metadata": {},
     "outputs": [
      {
       "output_type": "stream",
       "stream": "stdout",
       "text": [
        "(Rattus.norvegicus-Norway.rat:0.084683,myoglobin:0.639676):0.015366;\n"
       ]
      }
     ],
     "prompt_number": 53
    },
    {
     "cell_type": "code",
     "collapsed": false,
     "input": [
      "rerooted_tree = tree.root_at(new_root)"
     ],
     "language": "python",
     "metadata": {},
     "outputs": [],
     "prompt_number": 54
    },
    {
     "cell_type": "code",
     "collapsed": false,
     "input": [
      "print(rerooted_tree)"
     ],
     "language": "python",
     "metadata": {},
     "outputs": [
      {
       "output_type": "stream",
       "stream": "stdout",
       "text": [
        "(Rattus.norvegicus-Norway.rat:0.084683,myoglobin:0.639676,((Erinaceus.europaeus-European.hedgehog:0.073006,Talpa.europaea-European.mole:0.087251):0.003865,(Ctenodactylus.gundi-common.gundi:0.072266,(((Megaderma.lyra-false.vampire.bat:0.049199,Procyon.lotor-raccoon:0.027724):0.008906,(Ailurus.fulgens-lesser.panda:0.023083,(Leptonychotes.weddellii-Weddell.seal:0.02753,Vulpes.vulpes-red.fox:0.030163):0.002558):0.01353):0.011133,((Balaenoptera.acutorostrata-minke.whale:0.057953,Equus.caballus-horse:0.102304):0.00703,((Lepus.europaeus-European.hare:0.049343,(Tarsius.syrichta-Philippine.tarsier:0.050935,(Cebus.albifrons-capuchin:0.024032,((Homo.sapiens-human:0.015734,Chlorocebus.aethiops-grivet:0.022727):0.004886,(Ateles.belzebuth-spider.monkey:0.026583,(Alouatta.belzebul-howler:0.020984,Callicebus.torquatus-titi:0.023888):0.005469):0.003127):0.003211):0.009562):0.01516):0.001438,Rousettus.aegyptiacus-Egyptian.fruit.bat:0.045837):0.001739):0.005941):0.006595):0.015875):0.015366)root;\n"
       ]
      }
     ],
     "prompt_number": 55
    },
    {
     "cell_type": "code",
     "collapsed": false,
     "input": [
      "print(rerooted_tree.ascii_art())"
     ],
     "language": "python",
     "metadata": {},
     "outputs": [
      {
       "output_type": "stream",
       "stream": "stdout",
       "text": [
        "          /-Rattus.norvegicus-Norway.rat\n",
        "         |\n",
        "         |--myoglobin\n",
        "         |\n",
        "-root----|                    /-Erinaceus.europaeus-European.hedgehog\n",
        "         |          /--------|\n",
        "         |         |          \\-Talpa.europaea-European.mole\n",
        "         |         |\n",
        "         |         |          /-Ctenodactylus.gundi-common.gundi\n",
        "          \\--------|         |\n",
        "                   |         |                              /-Megaderma.lyra-false.vampire.bat\n",
        "                   |         |                    /--------|\n",
        "                   |         |                   |          \\-Procyon.lotor-raccoon\n",
        "                   |         |          /--------|\n",
        "                    \\--------|         |         |          /-Ailurus.fulgens-lesser.panda\n",
        "                             |         |          \\--------|\n",
        "                             |         |                   |          /-Leptonychotes.weddellii-Weddell.seal\n",
        "                             |         |                    \\--------|\n",
        "                             |         |                              \\-Vulpes.vulpes-red.fox\n",
        "                             |         |\n",
        "                              \\--------|                    /-Balaenoptera.acutorostrata-minke.whale\n",
        "                                       |          /--------|\n",
        "                                       |         |          \\-Equus.caballus-horse\n",
        "                                       |         |\n",
        "                                       |         |                    /-Lepus.europaeus-European.hare\n",
        "                                       |         |                   |\n",
        "                                       |         |          /--------|          /-Tarsius.syrichta-Philippine.tarsier\n",
        "                                        \\--------|         |         |         |\n",
        "                                                 |         |          \\--------|          /-Cebus.albifrons-capuchin\n",
        "                                                 |         |                   |         |\n",
        "                                                 |         |                    \\--------|                    /-Homo.sapiens-human\n",
        "                                                 |         |                             |          /--------|\n",
        "                                                 |         |                             |         |          \\-Chlorocebus.aethiops-grivet\n",
        "                                                  \\--------|                              \\--------|\n",
        "                                                           |                                       |          /-Ateles.belzebuth-spider.monkey\n",
        "                                                           |                                        \\--------|\n",
        "                                                           |                                                 |          /-Alouatta.belzebul-howler\n",
        "                                                           |                                                  \\--------|\n",
        "                                                           |                                                            \\-Callicebus.torquatus-titi\n",
        "                                                           |\n",
        "                                                            \\-Rousettus.aegyptiacus-Egyptian.fruit.bat\n"
       ]
      }
     ],
     "prompt_number": 56
    },
    {
     "cell_type": "code",
     "collapsed": false,
     "input": [],
     "language": "python",
     "metadata": {},
     "outputs": [],
     "prompt_number": 10
    }
   ],
   "metadata": {}
  }
 ]
}