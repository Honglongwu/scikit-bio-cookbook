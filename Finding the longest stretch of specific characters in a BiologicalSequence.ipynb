{
 "metadata": {
  "name": "",
  "signature": "sha256:99abbd0b933006642d81f33c436d0c88a2487c8fe0bd8186edb6735c738f5675"
 },
 "nbformat": 3,
 "nbformat_minor": 0,
 "worksheets": [
  {
   "cells": [
    {
     "cell_type": "markdown",
     "metadata": {},
     "source": [
      "In this recipe we look at how to find the longest stretch of a specified set of characters in a ``BiologicalSequence`` object. In this particular case we'll work with ``NucleotideSequences``, and look for stretchs of purines and pyrimidines. In this context, I use the term *stretch* to mean a series of contiguous characters of interest (e.g., purines). We'll obtain the length and the start position of the longest stretch of various character sets.\n",
      "\n",
      "First, we'll configure the environment. We'll be using skbio and itertools for this."
     ]
    },
    {
     "cell_type": "code",
     "collapsed": false,
     "input": [
      "from __future__ import print_function\n",
      "import itertools\n",
      "\n",
      "from skbio import parse_fasta, NucleotideSequence"
     ],
     "language": "python",
     "metadata": {},
     "outputs": [],
     "prompt_number": 1
    },
    {
     "cell_type": "markdown",
     "metadata": {},
     "source": [
      "Next we'll define our character sets of interest. We'll define the set of purines and pyrimidines here. "
     ]
    },
    {
     "cell_type": "code",
     "collapsed": false,
     "input": [
      "purines = set('AG')\n",
      "pyrimidines = set('CTU')"
     ],
     "language": "python",
     "metadata": {},
     "outputs": [],
     "prompt_number": 2
    },
    {
     "cell_type": "markdown",
     "metadata": {},
     "source": [
      "I'm going to obtain a single sequence from a fasta file. In this case, this is a short 16S sequence. In practice, you might be loading a whole genome here, but the process will be the same."
     ]
    },
    {
     "cell_type": "code",
     "collapsed": false,
     "input": [
      "id_, seq = list(parse_fasta(open('data/single_sequence1.fasta')))[0]\n",
      "n = NucleotideSequence(seq, id=id_)\n",
      "n"
     ],
     "language": "python",
     "metadata": {},
     "outputs": [
      {
       "metadata": {},
       "output_type": "pyout",
       "prompt_number": 3,
       "text": [
        "<NucleotideSequence: GAGTTTGATC... (length: 1541)>"
       ]
      }
     ],
     "prompt_number": 3
    },
    {
     "cell_type": "markdown",
     "metadata": {},
     "source": [
      "Here's where it gets interesting - we'll define a ``longest_stretch`` function that takes a ``BiologicalSequence`` object and the characters of interest, and returns the length of the longest contiguous stretch of the characters of interest, as well as the start position of that stretch of characters. (And of course you could compute the end position of that stretch by summing those two values, if you were interested in getting the span.)"
     ]
    },
    {
     "cell_type": "code",
     "collapsed": false,
     "input": [
      "def longest_stretch(sequence, characters_of_interest):\n",
      "    # initialize some values\n",
      "    current_stretch_length = 0\n",
      "    max_stretch_length = 0\n",
      "    current_stretch_start_position = 0\n",
      "    max_stretch_start_position = -1\n",
      "    \n",
      "    # this recipe was developed while reviewing this SO answer:\n",
      "    # http://stackoverflow.com/a/1066838/3424666\n",
      "    for is_stretch_of_interest, group in itertools.groupby(sequence, \n",
      "                                                           key=lambda x: x in characters_of_interest):\n",
      "        current_stretch_length = len(list(group))\n",
      "        current_stretch_start_position += current_stretch_length\n",
      "        if is_stretch_of_interest:\n",
      "            if current_stretch_length > max_stretch_length:\n",
      "                max_stretch_length = current_stretch_length\n",
      "                max_stretch_start_position = current_stretch_start_position\n",
      "    return max_stretch_length, max_stretch_start_position"
     ],
     "language": "python",
     "metadata": {},
     "outputs": [],
     "prompt_number": 4
    },
    {
     "cell_type": "markdown",
     "metadata": {},
     "source": [
      "We can apply this to find the longest stretch of purines..."
     ]
    },
    {
     "cell_type": "code",
     "collapsed": false,
     "input": [
      "longest_stretch(n, purines)"
     ],
     "language": "python",
     "metadata": {},
     "outputs": [
      {
       "metadata": {},
       "output_type": "pyout",
       "prompt_number": 5,
       "text": [
        "(11, 141)"
       ]
      }
     ],
     "prompt_number": 5
    },
    {
     "cell_type": "markdown",
     "metadata": {},
     "source": [
      "We can apply this to find the longest stretch of pyrimidines..."
     ]
    },
    {
     "cell_type": "code",
     "collapsed": false,
     "input": [
      "longest_stretch(n, pyrimidines)"
     ],
     "language": "python",
     "metadata": {},
     "outputs": [
      {
       "metadata": {},
       "output_type": "pyout",
       "prompt_number": 6,
       "text": [
        "(6, 181)"
       ]
      }
     ],
     "prompt_number": 6
    },
    {
     "cell_type": "markdown",
     "metadata": {},
     "source": [
      "Or the longest stretch of some other character or characters."
     ]
    },
    {
     "cell_type": "code",
     "collapsed": false,
     "input": [
      "longest_stretch(n, set('N'))"
     ],
     "language": "python",
     "metadata": {},
     "outputs": [
      {
       "metadata": {},
       "output_type": "pyout",
       "prompt_number": 7,
       "text": [
        "(1, 573)"
       ]
      }
     ],
     "prompt_number": 7
    },
    {
     "cell_type": "markdown",
     "metadata": {},
     "source": [
      "In this case, we try to find a stretch of a character that doesn't exist in the sequence."
     ]
    },
    {
     "cell_type": "code",
     "collapsed": false,
     "input": [
      "longest_stretch(n, set('X'))"
     ],
     "language": "python",
     "metadata": {},
     "outputs": [
      {
       "metadata": {},
       "output_type": "pyout",
       "prompt_number": 8,
       "text": [
        "(0, -1)"
       ]
      }
     ],
     "prompt_number": 8
    },
    {
     "cell_type": "markdown",
     "metadata": {},
     "source": [
      "**NOTE:** In the future we'll be adding direct support for this functionality to the ``BiologicalSequence`` object. You can track progress on that [here](https://github.com/biocore/scikit-bio/issues/612)."
     ]
    }
   ],
   "metadata": {}
  }
 ]
}