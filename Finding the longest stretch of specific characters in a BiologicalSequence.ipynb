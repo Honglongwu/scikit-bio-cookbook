{
 "metadata": {
  "name": "",
  "signature": "sha256:edca98f9a3baee049879b43eeb29c9fee1b967b2d150c4c78609aab5d687bd6c"
 },
 "nbformat": 3,
 "nbformat_minor": 0,
 "worksheets": [
  {
   "cells": [
    {
     "cell_type": "markdown",
     "metadata": {},
     "source": [
      "In this recipe we look at how to find the longest stretch of a specified set of characters in a ``BiologicalSequence`` object. In this particular case we'll work with ``NucleotideSequences``, and look for stretchs of purines and pyrimidines. In this context, I use the term *stretch* to mean a series of contiguous characters of interest (e.g., purines). We'll obtain the start and end positions of the longest stretch of various character sets.\n",
      "\n",
      "First, we'll configure the environment:"
     ]
    },
    {
     "cell_type": "code",
     "collapsed": false,
     "input": [
      "from __future__ import print_function\n",
      "from skbio import NucleotideSequence"
     ],
     "language": "python",
     "metadata": {},
     "outputs": [],
     "prompt_number": 1
    },
    {
     "cell_type": "markdown",
     "metadata": {},
     "source": [
      "Next, let's load a single sequence from a fasta file. In this case, this is a short 16S sequence. In practice, you might be loading a whole genome here, but the process will be the same."
     ]
    },
    {
     "cell_type": "code",
     "collapsed": false,
     "input": [
      "nuc = NucleotideSequence.read('data/single_sequence1.fasta', seq_num=1)\n",
      "nuc"
     ],
     "language": "python",
     "metadata": {},
     "outputs": [
      {
       "metadata": {},
       "output_type": "pyout",
       "prompt_number": 2,
       "text": [
        "<NucleotideSequence: GAGTTTGATC... (length: 1541)>"
       ]
      }
     ],
     "prompt_number": 2
    },
    {
     "cell_type": "markdown",
     "metadata": {},
     "source": [
      "To find the longest stretch of purines, we use ``NucleotideSequence.find_features('purine_run')`` to find *all* purine stretches, and then Python's ``max`` function to find the longest stretch:"
     ]
    },
    {
     "cell_type": "code",
     "collapsed": false,
     "input": [
      "max(nuc.find_features('purine_run'), key=lambda e: len(e[2]))"
     ],
     "language": "python",
     "metadata": {},
     "outputs": [
      {
       "metadata": {},
       "output_type": "pyout",
       "prompt_number": 3,
       "text": [
        "(130, 141, 'AAAGAGGGGGA')"
       ]
      }
     ],
     "prompt_number": 3
    },
    {
     "cell_type": "markdown",
     "metadata": {},
     "source": [
      "The result includes start position, end position, and the subsequence of the longest stretch of purines."
     ]
    },
    {
     "cell_type": "markdown",
     "metadata": {},
     "source": [
      "To find the longest stretch of pyrimidines:"
     ]
    },
    {
     "cell_type": "code",
     "collapsed": false,
     "input": [
      "max(nuc.find_features('pyrimidine_run'), key=lambda e: len(e[2]))"
     ],
     "language": "python",
     "metadata": {},
     "outputs": [
      {
       "metadata": {},
       "output_type": "pyout",
       "prompt_number": 4,
       "text": [
        "(175, 181, 'CTCTTC')"
       ]
      }
     ],
     "prompt_number": 4
    },
    {
     "cell_type": "markdown",
     "metadata": {},
     "source": [
      "To find the longest stretch of some other character or characters that don't have built-in support in scikit-bio's sequence objects, we can use ``BiologicalSequence.regex_iter``. For example, to find the longest stretch of ``N`` characters:"
     ]
    },
    {
     "cell_type": "code",
     "collapsed": false,
     "input": [
      "import re\n",
      "n_run = re.compile(r'([N]+)')\n",
      "max(nuc.regex_iter(n_run), key=lambda e: len(e[2]))"
     ],
     "language": "python",
     "metadata": {},
     "outputs": [
      {
       "metadata": {},
       "output_type": "pyout",
       "prompt_number": 5,
       "text": [
        "(572, 573, 'N')"
       ]
      }
     ],
     "prompt_number": 5
    },
    {
     "cell_type": "markdown",
     "metadata": {},
     "source": [
      "Finally, let's try to find a stretch of a character that doesn't exist in the sequence:"
     ]
    },
    {
     "cell_type": "code",
     "collapsed": false,
     "input": [
      "x_run = re.compile(r'([X]+)')\n",
      "list(nuc.regex_iter(x_run))"
     ],
     "language": "python",
     "metadata": {},
     "outputs": [
      {
       "metadata": {},
       "output_type": "pyout",
       "prompt_number": 6,
       "text": [
        "[]"
       ]
      }
     ],
     "prompt_number": 6
    },
    {
     "cell_type": "markdown",
     "metadata": {},
     "source": [
      "After expanding the generator returned by ``NucleotideSequence.regex_iter``, we see that there are no stretches of the ``X`` character."
     ]
    }
   ],
   "metadata": {}
  }
 ]
}