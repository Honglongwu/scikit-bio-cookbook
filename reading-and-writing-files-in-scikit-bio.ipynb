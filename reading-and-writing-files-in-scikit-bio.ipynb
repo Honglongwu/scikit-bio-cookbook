{
 "metadata": {
  "name": "",
  "signature": "sha256:b8355105c4f3ed42dcb6fe057eb0a609707d6bd772d0510b507ba36f55e01ebe"
 },
 "nbformat": 3,
 "nbformat_minor": 0,
 "worksheets": [
  {
   "cells": [
    {
     "cell_type": "markdown",
     "metadata": {},
     "source": []
    },
    {
     "cell_type": "markdown",
     "metadata": {},
     "source": [
      "#Convert QSeq to different FASTQ variants"
     ]
    },
    {
     "cell_type": "code",
     "collapsed": false,
     "input": [
      "import skbio.io\n",
      "for variant in ['sanger', 'illumina1.3', 'illumina1.8']:\n",
      "    qseq_gen = skbio.io.read('data/s_1_1_0001_qseq.txt', \n",
      "                             format='qseq',\n",
      "                             filter=True,\n",
      "                             variant='illumina1.3')\n",
      "    skbio.io.write(qseq_gen, \n",
      "                   into='data/s_1_1_0001_%s.fastq' % variant, \n",
      "                   format='fastq',\n",
      "                   variant=variant)\n"
     ],
     "language": "python",
     "metadata": {},
     "outputs": [],
     "prompt_number": 1
    },
    {
     "cell_type": "code",
     "collapsed": false,
     "input": [
      "!head -4 data/s_1_1_0001_illumina1.3.fastq"
     ],
     "language": "python",
     "metadata": {},
     "outputs": [
      {
       "output_type": "stream",
       "stream": "stdout",
       "text": [
        "@M10_68:1:1:19607:29475#0/1\r\n",
        "GACATAAGGGTGGTTAGTATACCGGCAAGGACGGGGTTACTAGTGACGTCCTTCCCCGTATGCCGGGCAATAATGTTTATGTTGGTTTCATGGTTTGGTCTAACTTTACCGCTACTAAATGCTGCGGATTGGTTTCGCTGAATCAGATTATT\r\n",
        "+\r\n",
        "Z__c\\JQ`cc[[_[bfff[[`Qbdge_YYOOHO^cF[FUb_VHMHV`T`dBBBBBBBBBBBBBBBBBBBBBBBBBBBBBBBBBBBBBBBBBBBBBBBBBBBBBBBBBBBBBBBBBBBBBBBBBBBBBBBBBBBBBBBBBBBBBBBBBBBBBB\r\n"
       ]
      }
     ],
     "prompt_number": 2
    },
    {
     "cell_type": "code",
     "collapsed": false,
     "input": [
      "!head -4 data/s_1_1_0001_illumina1.8.fastq"
     ],
     "language": "python",
     "metadata": {},
     "outputs": [
      {
       "output_type": "stream",
       "stream": "stdout",
       "text": [
        "@M10_68:1:1:19607:29475#0/1\r\n",
        "GACATAAGGGTGGTTAGTATACCGGCAAGGACGGGGTTACTAGTGACGTCCTTCCCCGTATGCCGGGCAATAATGTTTATGTTGGTTTCATGGTTTGGTCTAACTTTACCGCTACTAAATGCTGCGGATTGGTTTCGCTGAATCAGATTATT\r\n",
        "+\r\n",
        ";@@D=+2ADD<<@<CGGG<<A2CEHF@::00)0?D'<'6C@7).)7A5AE######################################################################################################\r\n"
       ]
      }
     ],
     "prompt_number": 3
    },
    {
     "cell_type": "code",
     "collapsed": false,
     "input": [
      "!head -4 data/s_1_1_0001_sanger.fastq"
     ],
     "language": "python",
     "metadata": {},
     "outputs": [
      {
       "output_type": "stream",
       "stream": "stdout",
       "text": [
        "@M10_68:1:1:19607:29475#0/1\r\n",
        "GACATAAGGGTGGTTAGTATACCGGCAAGGACGGGGTTACTAGTGACGTCCTTCCCCGTATGCCGGGCAATAATGTTTATGTTGGTTTCATGGTTTGGTCTAACTTTACCGCTACTAAATGCTGCGGATTGGTTTCGCTGAATCAGATTATT\r\n",
        "+\r\n",
        ";@@D=+2ADD<<@<CGGG<<A2CEHF@::00)0?D'<'6C@7).)7A5AE######################################################################################################\r\n"
       ]
      }
     ],
     "prompt_number": 4
    },
    {
     "cell_type": "code",
     "collapsed": false,
     "input": [
      "def seq_collections_equal(sc1, sc2):\n",
      "    if len(sc1) != len(sc2):\n",
      "        return False\n",
      "    for a, b in zip(sc1, sc2):\n",
      "        if not a.equals(b):\n",
      "            return False\n",
      "    return True\n",
      "\n",
      "def all_equal(*seqs):\n",
      "    for s1 in seqs:\n",
      "        for s2 in seqs:\n",
      "            if not seq_collections_equal(s1, s2):\n",
      "                return False\n",
      "    return True"
     ],
     "language": "python",
     "metadata": {},
     "outputs": [],
     "prompt_number": 5
    },
    {
     "cell_type": "code",
     "collapsed": false,
     "input": [
      "from skbio import SequenceCollection\n",
      "\n",
      "sc_illumina13 = SequenceCollection.read('data/s_1_1_0001_illumina1.3.fastq', variant='illumina1.3')\n",
      "sc_illumina18 = SequenceCollection.read('data/s_1_1_0001_illumina1.8.fastq', variant='illumina1.8')\n",
      "sc_sanger = SequenceCollection.read('data/s_1_1_0001_sanger.fastq', variant='sanger')\n",
      "sc_original = SequenceCollection.read('data/s_1_1_0001_qseq.txt', variant='illumina1.3')\n",
      "\n",
      "all_equal(sc_illumina13, sc_illumina18, sc_sanger, sc_original)"
     ],
     "language": "python",
     "metadata": {},
     "outputs": [
      {
       "metadata": {},
       "output_type": "pyout",
       "prompt_number": 6,
       "text": [
        "True"
       ]
      }
     ],
     "prompt_number": 6
    },
    {
     "cell_type": "code",
     "collapsed": false,
     "input": [
      "sc_illumina13.write('data/s_1_1_0001.fasta', qual='data/s_1_1_0001.qual')\n",
      "!head -4 data/s_1_1_0001.fasta"
     ],
     "language": "python",
     "metadata": {},
     "outputs": [
      {
       "output_type": "stream",
       "stream": "stdout",
       "text": [
        ">M10_68:1:1:19607:29475#0/1\r\n",
        "GACATAAGGGTGGTTAGTATACCGGCAAGGACGGGGTTACTAGTGACGTCCTTCCCCGTATGCCGGGCAATAATGTTTATGTTGGTTTCATGGTTTGGTCTAACTTTACCGCTACTAAATGCTGCGGATTGGTTTCGCTGAATCAGATTATT\r\n",
        ">M10_68:1:1:9095:29475#0/1\r\n",
        "GAATATCCTTAAGATGGCGTTCAGCAGCCCGCTTGCGGCCAAACTGCTTAACCGTCTTCTCGTTCTCTAAAAACCATTTTTCGTCCCCTTCGGGGCGGTGGTCTATAGTGTTATTAATATCAAGTTGGGGGAGCACATTGTAGCATTGTGCC\r\n"
       ]
      }
     ],
     "prompt_number": 7
    },
    {
     "cell_type": "code",
     "collapsed": false,
     "input": [
      "!head -4 data/s_1_1_0001.qual"
     ],
     "language": "python",
     "metadata": {},
     "outputs": [
      {
       "output_type": "stream",
       "stream": "stdout",
       "text": [
        ">M10_68:1:1:19607:29475#0/1\r\n",
        "26 31 31 35 28 10 17 32 35 35 27 27 31 27 34 38 38 38 27 27 32 17 34 36 39 37 31 25 25 15 15 8 15 30 35 6 27 6 21 34 31 22 8 13 8 22 32 20 32 36 2 2 2 2 2 2 2 2 2 2 2 2 2 2 2 2 2 2 2 2 2 2 2 2 2 2 2 2 2 2 2 2 2 2 2 2 2 2 2 2 2 2 2 2 2 2 2 2 2 2 2 2 2 2 2 2 2 2 2 2 2 2 2 2 2 2 2 2 2 2 2 2 2 2 2 2 2 2 2 2 2 2 2 2 2 2 2 2 2 2 2 2 2 2 2 2 2 2 2 2 2 2\r\n",
        ">M10_68:1:1:9095:29475#0/1\r\n",
        "16 16 25 32 33 35 35 30 27 35 37 37 35 34 31 10 34 36 30 38 38 40 40 40 37 36 36 37 38 35 38 40 25 37 37 40 37 15 31 37 32 7 23 37 36 35 36 37 40 37 27 36 36 36 35 35 35 35 34 34 34 30 31 33 33 33 33 31 26 20 20 25 31 33 33 33 33 33 35 36 33 33 31 33 33 33 33 33 33 33 33 30 12 24 24 29 33 33 27 29 33 33 33 33 18 29 33 35 35 35 31 33 33 35 33 32 25 29 31 33 35 32 25 29 31 31 29 31 24 5 8 15 15 20 27 30 31 25 31 29 32 27 32 32 33 35 33 33 31 33 32 33\r\n"
       ]
      }
     ],
     "prompt_number": 8
    },
    {
     "cell_type": "markdown",
     "metadata": {
      "internals": {
       "slide_type": "subslide"
      },
      "slideshow": {
       "slide_type": "slide"
      }
     },
     "source": [
      "# Procedural API vs Object Oriented API\n",
      "\n"
     ]
    },
    {
     "cell_type": "code",
     "collapsed": false,
     "input": [
      "import skbio.io\n",
      "from skbio import TreeNode\n",
      "\n",
      "tree_1 = skbio.io.read('data/61_otus.tree', \n",
      "            format='newick', \n",
      "            into=TreeNode)\n",
      "\n",
      "tree_2 = TreeNode.read('data/61_otus.tree', \n",
      "                       format='newick')\n",
      "\n",
      "print(tree_1)\n",
      "print(tree_2)\n",
      "\n"
     ],
     "language": "python",
     "metadata": {
      "internals": {
       "slide_helper": "subslide_end"
      },
      "slide_helper": "slide_end",
      "slideshow": {
       "slide_type": "-"
      }
     },
     "outputs": [
      {
       "output_type": "stream",
       "stream": "stdout",
       "text": [
        "((((((801940:0.16748,3825327:0.36897):0.07831,1928988:0.27799)'p__Crenarchaeota':0.04405,(4455990:0.14403,1128285:0.14461):0.16704):0.01855,823009:0.3881):0.01587,(3770699:0.60035,426860:0.28962)'c__[Parvarchaea]':0.07841)'k__Archaea':0.31772,((3761685:0.18326,4423155:0.5605):0.07543,(((((4391683:0.26125,(4336814:0.35428,(((3190878:0.36049,4452949:0.08994):0.12795,4251079:0.19473):0.02384,(2107103:0.54203,4363563:0.46236):0.06044):0.20722):0.05703):0.08253,229854:0.24026):0.02393,4459468:0.37727):0.01293,696036:0.63811):0.0212,(3779572:0.1464,4363260:0.11356)0.081:0.30451):0.09868):0.15861);\n",
        "\n",
        "((((((801940:0.16748,3825327:0.36897):0.07831,1928988:0.27799)'p__Crenarchaeota':0.04405,(4455990:0.14403,1128285:0.14461):0.16704):0.01855,823009:0.3881):0.01587,(3770699:0.60035,426860:0.28962)'c__[Parvarchaea]':0.07841)'k__Archaea':0.31772,((3761685:0.18326,4423155:0.5605):0.07543,(((((4391683:0.26125,(4336814:0.35428,(((3190878:0.36049,4452949:0.08994):0.12795,4251079:0.19473):0.02384,(2107103:0.54203,4363563:0.46236):0.06044):0.20722):0.05703):0.08253,229854:0.24026):0.02393,4459468:0.37727):0.01293,696036:0.63811):0.0212,(3779572:0.1464,4363260:0.11356)0.081:0.30451):0.09868):0.15861);\n",
        "\n"
       ]
      }
     ],
     "prompt_number": 9
    },
    {
     "cell_type": "markdown",
     "metadata": {
      "internals": {
       "slide_type": "subslide"
      },
      "slideshow": {
       "slide_type": "slide"
      }
     },
     "source": [
      "#Sniffers\n",
      "What if we don't know the file?"
     ]
    },
    {
     "cell_type": "code",
     "collapsed": false,
     "input": [
      "from skbio.io import sniff, UnrecognizedFormatError\n",
      "\n",
      "sniff('data/unknown_file_1')"
     ],
     "language": "python",
     "metadata": {
      "internals": {},
      "slideshow": {
       "slide_type": "-"
      }
     },
     "outputs": [
      {
       "metadata": {},
       "output_type": "pyout",
       "prompt_number": 15,
       "text": [
        "('ordination', {})"
       ]
      }
     ],
     "prompt_number": 15
    },
    {
     "cell_type": "code",
     "collapsed": false,
     "input": [
      "try:\n",
      "    sniff('data/unknown_file_2')\n",
      "except UnrecognizedFormatError as e:\n",
      "    print(e)"
     ],
     "language": "python",
     "metadata": {
      "internals": {},
      "slideshow": {
       "slide_type": "-"
      }
     },
     "outputs": [
      {
       "output_type": "stream",
       "stream": "stdout",
       "text": [
        "Cannot guess the format for data/unknown_file_2.\n"
       ]
      }
     ],
     "prompt_number": 16
    },
    {
     "cell_type": "code",
     "collapsed": false,
     "input": [
      "sniff('data/unknown_file_3')"
     ],
     "language": "python",
     "metadata": {
      "internals": {},
      "slideshow": {
       "slide_type": "-"
      }
     },
     "outputs": [
      {
       "metadata": {},
       "output_type": "pyout",
       "prompt_number": 17,
       "text": [
        "('<emptyfile>', {})"
       ]
      }
     ],
     "prompt_number": 17
    },
    {
     "cell_type": "code",
     "collapsed": false,
     "input": [
      "sniff('data/unknown_file_4')"
     ],
     "language": "python",
     "metadata": {
      "internals": {
       "slide_helper": "subslide_end"
      },
      "slide_helper": "slide_end",
      "slideshow": {
       "slide_type": "-"
      }
     },
     "outputs": [
      {
       "metadata": {},
       "output_type": "pyout",
       "prompt_number": 18,
       "text": [
        "('lsmat', {'delimiter': ','})"
       ]
      }
     ],
     "prompt_number": 18
    },
    {
     "cell_type": "markdown",
     "metadata": {
      "internals": {
       "slide_type": "subslide"
      },
      "slideshow": {
       "slide_type": "slide"
      }
     },
     "source": [
      "Because scikit-bio is capable of 'sniffing' files to detect the format, we can ommit the format keyword argument. "
     ]
    },
    {
     "cell_type": "markdown",
     "metadata": {
      "internals": {
       "slide_type": "subslide"
      },
      "slideshow": {
       "slide_type": "slide"
      }
     },
     "source": [
      "# Streaming files to a different format"
     ]
    },
    {
     "cell_type": "code",
     "collapsed": false,
     "input": [
      "seqs = skbio.io.read('data/moving_pictures_subset_100.fastq', \n",
      "                     format='fastq',\n",
      "                     variant='illumina1.3')\n",
      "seqs"
     ],
     "language": "python",
     "metadata": {
      "internals": {
       "frag_helper": "fragment_end",
       "frag_number": 11
      },
      "slideshow": {
       "slide_type": "-"
      }
     },
     "outputs": [
      {
       "metadata": {},
       "output_type": "pyout",
       "prompt_number": 20,
       "text": [
        "<generator object wrapped_reader at 0x7f6829da8140>"
       ]
      }
     ],
     "prompt_number": 20
    },
    {
     "cell_type": "code",
     "collapsed": false,
     "input": [
      "skbio.io.write(seqs,  \n",
      "               format='fastq', \n",
      "               into='data/moving_pictures_subset_100_illumina1.8.fastq',\n",
      "               variant='illumina1.8')"
     ],
     "language": "python",
     "metadata": {
      "internals": {},
      "slideshow": {
       "slide_type": "-"
      }
     },
     "outputs": [],
     "prompt_number": 21
    },
    {
     "cell_type": "code",
     "collapsed": false,
     "input": [
      "!head -4 data/moving_pictures_subset_100_illumina1.8.fastq"
     ],
     "language": "python",
     "metadata": {},
     "outputs": [
      {
       "output_type": "stream",
       "stream": "stdout",
       "text": [
        "@HWI-EAS440_0386:1:23:17547:1423#0/1\r\n",
        "TACGNAGGATCCGAGCGTTATCCGGATTTATTGGGTTTAAAGGGAGCGTAGATGGATGTTTAAGTCAGTTGTGAAAGTTTGCGGCTCAACCGTAAAATTGCAGTTGATACTGGATATCTTGAGTGCAGTTGAGGCAGGGGGGGATTGGTGTG\r\n",
        "+\r\n",
        "IIIE)EEEEEEEEGFIIGIIIHIHHGIIIGIIHHHGIIHGHEGDGIFIGEHGIHHGHHGHHGGHEEGHEGGEHEBBHBBEEDCEDDD>B?BE@@B>@@@@@CB@ABA@@?@@=>?08;3=;==8:5;@6?######################\r\n"
       ]
      }
     ],
     "prompt_number": 22
    },
    {
     "cell_type": "code",
     "collapsed": false,
     "input": [],
     "language": "python",
     "metadata": {},
     "outputs": []
    }
   ],
   "metadata": {}
  }
 ]
}