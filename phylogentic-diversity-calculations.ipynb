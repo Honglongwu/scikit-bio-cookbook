{
 "metadata": {
  "name": "",
  "signature": "sha256:d7dc92bdb8b93aadc0d78042575f3b4e3d6ae5c3929d4c4d7074f123c2e6cf58"
 },
 "nbformat": 3,
 "nbformat_minor": 0,
 "worksheets": [
  {
   "cells": [
    {
     "cell_type": "code",
     "collapsed": false,
     "input": [
      "import pandas as pd\n",
      "import numpy as np\n",
      "\n",
      "sample_ids = ['s1', 's2', 's3']\n",
      "observation_ids = ['B1','B2','B3','B4','B5','A1','E2']\n",
      "data = array([[1, 1, 5],\n",
      "              [1, 2, 0],\n",
      "              [3, 1, 0],\n",
      "              [0, 2, 0],\n",
      "              [0, 0, 0],\n",
      "              [0, 0, 3],\n",
      "              [0, 0, 1]])\n",
      "\n",
      "table1 = pd.DataFrame(data, index=observation_ids, columns=sample_ids)\n",
      "\n",
      "print table1"
     ],
     "language": "python",
     "metadata": {},
     "outputs": [
      {
       "output_type": "stream",
       "stream": "stdout",
       "text": [
        "    s1  s2  s3\n",
        "B1   1   1   5\n",
        "B2   1   2   0\n",
        "B3   3   1   0\n",
        "B4   0   2   0\n",
        "B5   0   0   0\n",
        "A1   0   0   3\n",
        "E2   0   0   1\n"
       ]
      }
     ],
     "prompt_number": 16
    },
    {
     "cell_type": "code",
     "collapsed": false,
     "input": [
      "table1.index\n",
      "table1['s2']['B3']"
     ],
     "language": "python",
     "metadata": {},
     "outputs": [
      {
       "metadata": {},
       "output_type": "pyout",
       "prompt_number": 17,
       "text": [
        "1"
       ]
      }
     ],
     "prompt_number": 17
    },
    {
     "cell_type": "code",
     "collapsed": false,
     "input": [
      "newick_tree = '(((B1:0.2,B2:0.3):0.3,((B3:0.5,B4:0.3):0.2,B5:0.9):0.3):0.35,(((A1:0.2,A2:0.3):0.3,(E1:0.3,E2:0.4):0.7):0.2):0.05)root;'\n",
      "\n",
      "from skbio.tree import TreeNode\n",
      "\n",
      "tree = TreeNode.from_newick(newick_tree)\n",
      "tree = tree.root_at_midpoint()"
     ],
     "language": "python",
     "metadata": {},
     "outputs": [],
     "prompt_number": 18
    },
    {
     "cell_type": "code",
     "collapsed": false,
     "input": [
      "def get_observed_nodes(tree, table, sample_id, verbose=False):\n",
      "    observed_tips = [obs_id for obs_id in table.index \n",
      "                if table[sample_id][obs_id] > 0]\n",
      "    observed_nodes = set()\n",
      "    # iterate over the observed OTUs\n",
      "    for otu in observed_tips:\n",
      "        t = tree.find(otu)\n",
      "        observed_nodes.add(t)\n",
      "        if verbose:\n",
      "            print t.name, t.length, \n",
      "        for internal_node in t.ancestors():\n",
      "            if internal_node.length is None:\n",
      "                # we've hit the root\n",
      "                if verbose:\n",
      "                    print\n",
      "            else:\n",
      "                if verbose and internal_node not in observed_nodes:\n",
      "                    print internal_node.length,\n",
      "                observed_nodes.add(internal_node)\n",
      "    return observed_nodes\n",
      "\n",
      "def phylogenetic_diversity(tree, table, sample_id, verbose=False):\n",
      "    observed_nodes = get_observed_nodes(tree, table, sample_id, verbose=verbose)\n",
      "    pd = sum(o.length for o in observed_nodes)\n",
      "    return pd"
     ],
     "language": "python",
     "metadata": {},
     "outputs": [],
     "prompt_number": 19
    },
    {
     "cell_type": "code",
     "collapsed": false,
     "input": [
      "pd_A = phylogenetic_diversity(tree, table1, 's1', verbose=True)\n",
      "print pd_A"
     ],
     "language": "python",
     "metadata": {},
     "outputs": [
      {
       "output_type": "stream",
       "stream": "stdout",
       "text": [
        "B1 0.2 0.3 0.25\n",
        "B2 0.3\n",
        "B3 0.5 0.2 0.3\n",
        "2.05\n"
       ]
      }
     ],
     "prompt_number": 22
    },
    {
     "cell_type": "code",
     "collapsed": false,
     "input": [
      "def unweighted_unifrac(tree, table, sample_id1, sample_id2, verbose=False):\n",
      "    observed_nodes1 = get_observed_nodes(tree, table, sample_id1, verbose=verbose)\n",
      "    observed_nodes2 = get_observed_nodes(tree, table, sample_id2, verbose=verbose)\n",
      "    observed_branch_length = sum(o.length for o in observed_nodes1 | observed_nodes2)\n",
      "    shared_branch_length = sum(o.length for o in observed_nodes1 & observed_nodes2)\n",
      "    unique_branch_length = observed_branch_length - shared_branch_length\n",
      "    unweighted_unifrac = unique_branch_length / observed_branch_length\n",
      "    return unweighted_unifrac"
     ],
     "language": "python",
     "metadata": {},
     "outputs": [],
     "prompt_number": 23
    },
    {
     "cell_type": "code",
     "collapsed": false,
     "input": [
      "unweighted_unifrac(tree, table1, 's1', 's2')"
     ],
     "language": "python",
     "metadata": {},
     "outputs": [
      {
       "metadata": {},
       "output_type": "pyout",
       "prompt_number": 24,
       "text": [
        "0.12765957446808521"
       ]
      }
     ],
     "prompt_number": 24
    },
    {
     "cell_type": "code",
     "collapsed": false,
     "input": [
      "unweighted_unifrac(tree, table1, 's1', 's1')"
     ],
     "language": "python",
     "metadata": {},
     "outputs": [
      {
       "metadata": {},
       "output_type": "pyout",
       "prompt_number": 25,
       "text": [
        "0.0"
       ]
      }
     ],
     "prompt_number": 25
    },
    {
     "cell_type": "code",
     "collapsed": false,
     "input": [],
     "language": "python",
     "metadata": {},
     "outputs": []
    }
   ],
   "metadata": {}
  }
 ]
}